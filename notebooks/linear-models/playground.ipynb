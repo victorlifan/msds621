{
 "cells": [
  {
   "cell_type": "markdown",
   "metadata": {},
   "source": [
    "# Regularization for linear regressor models"
   ]
  },
  {
   "cell_type": "code",
   "execution_count": 1,
   "metadata": {},
   "outputs": [],
   "source": [
    "import numpy as np\n",
    "import pandas as pd\n",
    "\n",
    "from sklearn.linear_model import LinearRegression, Ridge, Lasso, LogisticRegression\n",
    "from sklearn.ensemble import RandomForestClassifier, RandomForestRegressor\n",
    "from sklearn.datasets import load_boston, load_iris, load_wine, load_digits, \\\n",
    "                             load_breast_cancer, load_diabetes\n",
    "from sklearn.model_selection import train_test_split\n",
    "from sklearn.metrics import confusion_matrix, precision_score, recall_score\n",
    "\n",
    "import matplotlib.pyplot as plt\n",
    "%config InlineBackend.figure_format = 'retina'\n",
    "\n",
    "def score(X, y, model, n=10, random_state=None):\n",
    "    train_scores = []\n",
    "    test_scores = []\n",
    "    for i in range(n):\n",
    "        X_train, X_test, y_train, y_test = \\\n",
    "            train_test_split(X, y, test_size=0.2, random_state=random_state)\n",
    "        model.fit(X_train, y_train)\n",
    "        train_score = model.score(X_train, y_train)\n",
    "        train_scores.append(train_score)\n",
    "        test_score = model.score(X_test, y_test)\n",
    "        test_scores.append(test_score)\n",
    "    return np.mean(train_scores), np.mean(test_scores)"
   ]
  },
  {
   "cell_type": "markdown",
   "metadata": {},
   "source": [
    "## Synthetic data set\n",
    "\n",
    "Let's start with a simple linear regression model of $y$ on $x$ for synthetic data set, just to get a baseline.   Since this is a toy example, we won't bother with separating a test set out.  Even the training error is going to fall apart for this example."
   ]
  },
  {
   "cell_type": "code",
   "execution_count": 2,
   "metadata": {},
   "outputs": [
    {
     "data": {
      "text/html": [
       "<div>\n",
       "<style scoped>\n",
       "    .dataframe tbody tr th:only-of-type {\n",
       "        vertical-align: middle;\n",
       "    }\n",
       "\n",
       "    .dataframe tbody tr th {\n",
       "        vertical-align: top;\n",
       "    }\n",
       "\n",
       "    .dataframe thead th {\n",
       "        text-align: right;\n",
       "    }\n",
       "</style>\n",
       "<table border=\"1\" class=\"dataframe\">\n",
       "  <thead>\n",
       "    <tr style=\"text-align: right;\">\n",
       "      <th></th>\n",
       "      <th>x</th>\n",
       "      <th>y</th>\n",
       "    </tr>\n",
       "  </thead>\n",
       "  <tbody>\n",
       "    <tr>\n",
       "      <th>0</th>\n",
       "      <td>0.000000</td>\n",
       "      <td>-0.794234</td>\n",
       "    </tr>\n",
       "    <tr>\n",
       "      <th>1</th>\n",
       "      <td>1.111111</td>\n",
       "      <td>-0.950995</td>\n",
       "    </tr>\n",
       "    <tr>\n",
       "      <th>2</th>\n",
       "      <td>2.222222</td>\n",
       "      <td>1.907768</td>\n",
       "    </tr>\n",
       "    <tr>\n",
       "      <th>3</th>\n",
       "      <td>3.333333</td>\n",
       "      <td>4.180489</td>\n",
       "    </tr>\n",
       "    <tr>\n",
       "      <th>4</th>\n",
       "      <td>4.444444</td>\n",
       "      <td>3.314155</td>\n",
       "    </tr>\n",
       "    <tr>\n",
       "      <th>5</th>\n",
       "      <td>5.555556</td>\n",
       "      <td>4.166761</td>\n",
       "    </tr>\n",
       "    <tr>\n",
       "      <th>6</th>\n",
       "      <td>6.666667</td>\n",
       "      <td>6.271517</td>\n",
       "    </tr>\n",
       "    <tr>\n",
       "      <th>7</th>\n",
       "      <td>7.777778</td>\n",
       "      <td>7.822622</td>\n",
       "    </tr>\n",
       "    <tr>\n",
       "      <th>8</th>\n",
       "      <td>8.888889</td>\n",
       "      <td>9.473159</td>\n",
       "    </tr>\n",
       "    <tr>\n",
       "      <th>9</th>\n",
       "      <td>10.000000</td>\n",
       "      <td>9.241302</td>\n",
       "    </tr>\n",
       "  </tbody>\n",
       "</table>\n",
       "</div>"
      ],
      "text/plain": [
       "           x         y\n",
       "0   0.000000 -0.794234\n",
       "1   1.111111 -0.950995\n",
       "2   2.222222  1.907768\n",
       "3   3.333333  4.180489\n",
       "4   4.444444  3.314155\n",
       "5   5.555556  4.166761\n",
       "6   6.666667  6.271517\n",
       "7   7.777778  7.822622\n",
       "8   8.888889  9.473159\n",
       "9  10.000000  9.241302"
      ]
     },
     "execution_count": 2,
     "metadata": {},
     "output_type": "execute_result"
    }
   ],
   "source": [
    "n = 10\n",
    "df = pd.DataFrame()\n",
    "df['x'] = np.linspace(0,10,num=n)\n",
    "df['y'] = df['x'] + np.random.normal(0,1,size=n)\n",
    "df"
   ]
  },
  {
   "cell_type": "markdown",
   "metadata": {},
   "source": [
    "### Base model"
   ]
  },
  {
   "cell_type": "code",
   "execution_count": 3,
   "metadata": {},
   "outputs": [
    {
     "data": {
      "text/plain": [
       "(0.955647081987409, -26.721634655625973)"
      ]
     },
     "execution_count": 3,
     "metadata": {},
     "output_type": "execute_result"
    }
   ],
   "source": [
    "X, y = df.drop('y',axis=1), df['y']\n",
    "lm = LinearRegression()\n",
    "lm.fit(X, y)\n",
    "beta0 = lm.intercept_\n",
    "beta1 = lm.coef_[0]\n",
    "score(X, y, lm) # bounces around a lot depending on data set and test set"
   ]
  },
  {
   "cell_type": "markdown",
   "metadata": {},
   "source": [
    "The model produces a nice regression line through the data points as we would expect."
   ]
  },
  {
   "cell_type": "code",
   "execution_count": 4,
   "metadata": {},
   "outputs": [
    {
     "data": {
      "image/png": "[encoded data removed]",
      "text/plain": [
       "<Figure size 432x288 with 1 Axes>"
      ]
     },
     "metadata": {
      "image/png": {
       "height": 282,
       "width": 384
      },
      "needs_background": "light"
     },
     "output_type": "display_data"
    }
   ],
   "source": [
    "plt.scatter(df['x'], df['y'], s=95)\n",
    "plt.plot(df['x'], df['x']*lm.coef_[0] + lm.intercept_, c='orange')\n",
    "plt.xlabel(\"x\", fontsize=12)\n",
    "plt.ylabel(\"y\", fontsize=12)\n",
    "plt.title(f\"$\\\\beta_1$ = {beta1:.3f}, $\\\\beta_0$ = {lm.intercept_:.2f}\", fontsize=14)\n",
    "plt.savefig(\"/Users/parrt/Desktop/ols.svg\")"
   ]
  },
  {
   "cell_type": "markdown",
   "metadata": {},
   "source": [
    "### Adding an outlier\n",
    "\n",
    "Let's add an outlier, making the last y value 100"
   ]
  },
  {
   "cell_type": "code",
   "execution_count": 5,
   "metadata": {},
   "outputs": [
    {
     "data": {
      "text/plain": [
       "0     -0.794234\n",
       "1     -0.950995\n",
       "2      1.907768\n",
       "3      4.180489\n",
       "4      3.314155\n",
       "5      4.166761\n",
       "6      6.271517\n",
       "7      7.822622\n",
       "8      9.473159\n",
       "9    100.000000\n",
       "Name: y, dtype: float64"
      ]
     },
     "execution_count": 5,
     "metadata": {},
     "output_type": "execute_result"
    }
   ],
   "source": [
    "y.iloc[-1] = 100\n",
    "y"
   ]
  },
  {
   "cell_type": "code",
   "execution_count": 6,
   "metadata": {},
   "outputs": [
    {
     "data": {
      "text/plain": [
       "0.3726229289182722"
      ]
     },
     "execution_count": 6,
     "metadata": {},
     "output_type": "execute_result"
    }
   ],
   "source": [
    "X, y = df.drop('y',axis=1), df['y']\n",
    "lm = LinearRegression()\n",
    "lm.fit(X, y)\n",
    "beta0 = lm.intercept_\n",
    "beta1 = lm.coef_[0]\n",
    "lm.score(X, y) # bounces around depending on test set"
   ]
  },
  {
   "cell_type": "code",
   "execution_count": 7,
   "metadata": {},
   "outputs": [
    {
     "data": {
      "image/png": "[encoded data removed]",
      "text/plain": [
       "<Figure size 432x288 with 1 Axes>"
      ]
     },
     "metadata": {
      "image/png": {
       "height": 282,
       "width": 391
      },
      "needs_background": "light"
     },
     "output_type": "display_data"
    }
   ],
   "source": [
    "plt.scatter(X, y, s=95)\n",
    "plt.plot(X, X*beta1 + lm.intercept_, c='orange')\n",
    "plt.xlabel(\"x\", fontsize=12)\n",
    "plt.ylabel(\"y\", fontsize=12)\n",
    "plt.title(f\"$\\\\beta_1$ = {beta1:.3f}, $\\\\beta_0$ = {lm.intercept_:.2f}\", fontsize=14)\n",
    "plt.savefig(\"/Users/parrt/Desktop/outlier.svg\")"
   ]
  },
  {
   "cell_type": "markdown",
   "metadata": {},
   "source": [
    "The $\\beta_1$ coefficient jumps from .99 to 5.35 and the Y intercept goes from 0.54 to -12.39. These are radically different coefficients that arise simply because one value is an outlier."
   ]
  },
  {
   "cell_type": "markdown",
   "metadata": {},
   "source": [
    "### L1 (Lasso) Regularization\n",
    "\n",
    "If we constrain the $\\beta_1$ coefficients strongly, then we can prevent the outlier from bending the regression line upwards."
   ]
  },
  {
   "cell_type": "code",
   "execution_count": 8,
   "metadata": {},
   "outputs": [
    {
     "name": "stdout",
     "output_type": "stream",
     "text": [
      "R^2 training, test scores (0.16206184467118115, -25.415043401750342)\n"
     ]
    },
    {
     "data": {
      "image/png": "[encoded data removed]",
      "text/plain": [
       "<Figure size 432x288 with 1 Axes>"
      ]
     },
     "metadata": {
      "image/png": {
       "height": 282,
       "width": 391
      },
      "needs_background": "light"
     },
     "output_type": "display_data"
    }
   ],
   "source": [
    "X, y = df.drop('y',axis=1), df['y']\n",
    "y.iloc[-1] = 100\n",
    "lm = Lasso(alpha=45)\n",
    "lm.fit(X, y)\n",
    "beta0 = lm.intercept_\n",
    "beta1 = lm.coef_[0]\n",
    "print(\"R^2 training, test scores\", score(X, y, lm))\n",
    "\n",
    "plt.scatter(X, y, s=95)\n",
    "plt.plot(X, X*beta1 + lm.intercept_, c='orange')\n",
    "plt.xlabel(\"x\", fontsize=12)\n",
    "plt.ylabel(\"y\", fontsize=12)\n",
    "plt.title(f\"$\\\\beta_1$ = {beta1:.3f}, $\\\\beta_0$ = {lm.intercept_:.2f}\", fontsize=14)\n",
    "plt.savefig(\"/Users/parrt/Desktop/lasso.svg\")\n",
    "plt.show()"
   ]
  },
  {
   "cell_type": "markdown",
   "metadata": {},
   "source": [
    "The 0.11 score is not that great but we have sacrificed a bit of accuracy for a much more reasonable coefficient. The $\\beta_1$ is now 0.93, very close to the 0.99 we get without the outlier.\n",
    "\n",
    "What is wrong with the $y$-intercept?   There is a trade-off here between bias and generality. We have sacrificed accuracy a bit (line is above most of the points) but gained and generality because the trendline is right (we ignore the outlier)."
   ]
  },
  {
   "cell_type": "markdown",
   "metadata": {},
   "source": [
    "## Ames housing data set"
   ]
  },
  {
   "cell_type": "markdown",
   "metadata": {},
   "source": [
    "### Prep data set\n",
    "\n",
    "Log into Kaggle and get [House Prices: Advanced Regression Techniques](https://www.kaggle.com/c/house-prices-advanced-regression-techniques/data). A useful discussion on this data set is [here](https://nycdatascience.com/blog/student-works/machine-learning-project/)."
   ]
  },
  {
   "cell_type": "code",
   "execution_count": 9,
   "metadata": {},
   "outputs": [
    {
     "data": {
      "text/html": [
       "<div>\n",
       "<style scoped>\n",
       "    .dataframe tbody tr th:only-of-type {\n",
       "        vertical-align: middle;\n",
       "    }\n",
       "\n",
       "    .dataframe tbody tr th {\n",
       "        vertical-align: top;\n",
       "    }\n",
       "\n",
       "    .dataframe thead th {\n",
       "        text-align: right;\n",
       "    }\n",
       "</style>\n",
       "<table border=\"1\" class=\"dataframe\">\n",
       "  <thead>\n",
       "    <tr style=\"text-align: right;\">\n",
       "      <th></th>\n",
       "      <th>Id</th>\n",
       "      <th>MSSubClass</th>\n",
       "      <th>MSZoning</th>\n",
       "      <th>LotFrontage</th>\n",
       "      <th>LotArea</th>\n",
       "      <th>Street</th>\n",
       "      <th>Alley</th>\n",
       "      <th>LotShape</th>\n",
       "      <th>LandContour</th>\n",
       "      <th>Utilities</th>\n",
       "      <th>...</th>\n",
       "      <th>PoolArea</th>\n",
       "      <th>PoolQC</th>\n",
       "      <th>Fence</th>\n",
       "      <th>MiscFeature</th>\n",
       "      <th>MiscVal</th>\n",
       "      <th>MoSold</th>\n",
       "      <th>YrSold</th>\n",
       "      <th>SaleType</th>\n",
       "      <th>SaleCondition</th>\n",
       "      <th>SalePrice</th>\n",
       "    </tr>\n",
       "  </thead>\n",
       "  <tbody>\n",
       "    <tr>\n",
       "      <th>0</th>\n",
       "      <td>1</td>\n",
       "      <td>60</td>\n",
       "      <td>RL</td>\n",
       "      <td>65.0</td>\n",
       "      <td>8450</td>\n",
       "      <td>Pave</td>\n",
       "      <td>NaN</td>\n",
       "      <td>Reg</td>\n",
       "      <td>Lvl</td>\n",
       "      <td>AllPub</td>\n",
       "      <td>...</td>\n",
       "      <td>0</td>\n",
       "      <td>NaN</td>\n",
       "      <td>NaN</td>\n",
       "      <td>NaN</td>\n",
       "      <td>0</td>\n",
       "      <td>2</td>\n",
       "      <td>2008</td>\n",
       "      <td>WD</td>\n",
       "      <td>Normal</td>\n",
       "      <td>208500</td>\n",
       "    </tr>\n",
       "    <tr>\n",
       "      <th>1</th>\n",
       "      <td>2</td>\n",
       "      <td>20</td>\n",
       "      <td>RL</td>\n",
       "      <td>80.0</td>\n",
       "      <td>9600</td>\n",
       "      <td>Pave</td>\n",
       "      <td>NaN</td>\n",
       "      <td>Reg</td>\n",
       "      <td>Lvl</td>\n",
       "      <td>AllPub</td>\n",
       "      <td>...</td>\n",
       "      <td>0</td>\n",
       "      <td>NaN</td>\n",
       "      <td>NaN</td>\n",
       "      <td>NaN</td>\n",
       "      <td>0</td>\n",
       "      <td>5</td>\n",
       "      <td>2007</td>\n",
       "      <td>WD</td>\n",
       "      <td>Normal</td>\n",
       "      <td>181500</td>\n",
       "    </tr>\n",
       "    <tr>\n",
       "      <th>2</th>\n",
       "      <td>3</td>\n",
       "      <td>60</td>\n",
       "      <td>RL</td>\n",
       "      <td>68.0</td>\n",
       "      <td>11250</td>\n",
       "      <td>Pave</td>\n",
       "      <td>NaN</td>\n",
       "      <td>IR1</td>\n",
       "      <td>Lvl</td>\n",
       "      <td>AllPub</td>\n",
       "      <td>...</td>\n",
       "      <td>0</td>\n",
       "      <td>NaN</td>\n",
       "      <td>NaN</td>\n",
       "      <td>NaN</td>\n",
       "      <td>0</td>\n",
       "      <td>9</td>\n",
       "      <td>2008</td>\n",
       "      <td>WD</td>\n",
       "      <td>Normal</td>\n",
       "      <td>223500</td>\n",
       "    </tr>\n",
       "    <tr>\n",
       "      <th>3</th>\n",
       "      <td>4</td>\n",
       "      <td>70</td>\n",
       "      <td>RL</td>\n",
       "      <td>60.0</td>\n",
       "      <td>9550</td>\n",
       "      <td>Pave</td>\n",
       "      <td>NaN</td>\n",
       "      <td>IR1</td>\n",
       "      <td>Lvl</td>\n",
       "      <td>AllPub</td>\n",
       "      <td>...</td>\n",
       "      <td>0</td>\n",
       "      <td>NaN</td>\n",
       "      <td>NaN</td>\n",
       "      <td>NaN</td>\n",
       "      <td>0</td>\n",
       "      <td>2</td>\n",
       "      <td>2006</td>\n",
       "      <td>WD</td>\n",
       "      <td>Abnorml</td>\n",
       "      <td>140000</td>\n",
       "    </tr>\n",
       "    <tr>\n",
       "      <th>4</th>\n",
       "      <td>5</td>\n",
       "      <td>60</td>\n",
       "      <td>RL</td>\n",
       "      <td>84.0</td>\n",
       "      <td>14260</td>\n",
       "      <td>Pave</td>\n",
       "      <td>NaN</td>\n",
       "      <td>IR1</td>\n",
       "      <td>Lvl</td>\n",
       "      <td>AllPub</td>\n",
       "      <td>...</td>\n",
       "      <td>0</td>\n",
       "      <td>NaN</td>\n",
       "      <td>NaN</td>\n",
       "      <td>NaN</td>\n",
       "      <td>0</td>\n",
       "      <td>12</td>\n",
       "      <td>2008</td>\n",
       "      <td>WD</td>\n",
       "      <td>Normal</td>\n",
       "      <td>250000</td>\n",
       "    </tr>\n",
       "  </tbody>\n",
       "</table>\n",
       "<p>5 rows × 81 columns</p>\n",
       "</div>"
      ],
      "text/plain": [
       "   Id  MSSubClass MSZoning  LotFrontage  LotArea Street Alley LotShape  \\\n",
       "0   1          60       RL         65.0     8450   Pave   NaN      Reg   \n",
       "1   2          20       RL         80.0     9600   Pave   NaN      Reg   \n",
       "2   3          60       RL         68.0    11250   Pave   NaN      IR1   \n",
       "3   4          70       RL         60.0     9550   Pave   NaN      IR1   \n",
       "4   5          60       RL         84.0    14260   Pave   NaN      IR1   \n",
       "\n",
       "  LandContour Utilities  ... PoolArea PoolQC Fence MiscFeature MiscVal MoSold  \\\n",
       "0         Lvl    AllPub  ...        0    NaN   NaN         NaN       0      2   \n",
       "1         Lvl    AllPub  ...        0    NaN   NaN         NaN       0      5   \n",
       "2         Lvl    AllPub  ...        0    NaN   NaN         NaN       0      9   \n",
       "3         Lvl    AllPub  ...        0    NaN   NaN         NaN       0      2   \n",
       "4         Lvl    AllPub  ...        0    NaN   NaN         NaN       0     12   \n",
       "\n",
       "  YrSold  SaleType  SaleCondition  SalePrice  \n",
       "0   2008        WD         Normal     208500  \n",
       "1   2007        WD         Normal     181500  \n",
       "2   2008        WD         Normal     223500  \n",
       "3   2006        WD        Abnorml     140000  \n",
       "4   2008        WD         Normal     250000  \n",
       "\n",
       "[5 rows x 81 columns]"
      ]
     },
     "execution_count": 9,
     "metadata": {},
     "output_type": "execute_result"
    }
   ],
   "source": [
    "df_ames = pd.read_csv(\"../../data/ames.csv\")\n",
    "df_ames.head()"
   ]
  },
  {
   "cell_type": "code",
   "execution_count": 10,
   "metadata": {},
   "outputs": [
    {
     "data": {
      "text/html": [
       "<div>\n",
       "<style scoped>\n",
       "    .dataframe tbody tr th:only-of-type {\n",
       "        vertical-align: middle;\n",
       "    }\n",
       "\n",
       "    .dataframe tbody tr th {\n",
       "        vertical-align: top;\n",
       "    }\n",
       "\n",
       "    .dataframe thead th {\n",
       "        text-align: right;\n",
       "    }\n",
       "</style>\n",
       "<table border=\"1\" class=\"dataframe\">\n",
       "  <thead>\n",
       "    <tr style=\"text-align: right;\">\n",
       "      <th></th>\n",
       "      <th>YearBuilt</th>\n",
       "      <th>Street</th>\n",
       "      <th>Functional</th>\n",
       "      <th>Exterior1st</th>\n",
       "      <th>TotalBsmtSF</th>\n",
       "      <th>OpenPorchSF</th>\n",
       "      <th>Neighborhood</th>\n",
       "      <th>1stFlrSF</th>\n",
       "      <th>YrSold</th>\n",
       "      <th>WoodDeckSF</th>\n",
       "      <th>...</th>\n",
       "      <th>PoolArea</th>\n",
       "      <th>ScreenPorch</th>\n",
       "      <th>YearRemodAdd</th>\n",
       "      <th>HeatingQC</th>\n",
       "      <th>Condition1</th>\n",
       "      <th>MSZoning</th>\n",
       "      <th>RoofStyle</th>\n",
       "      <th>ExterCond</th>\n",
       "      <th>GarageCars</th>\n",
       "      <th>RoofMatl</th>\n",
       "    </tr>\n",
       "  </thead>\n",
       "  <tbody>\n",
       "    <tr>\n",
       "      <th>0</th>\n",
       "      <td>2003</td>\n",
       "      <td>Pave</td>\n",
       "      <td>Typ</td>\n",
       "      <td>VinylSd</td>\n",
       "      <td>856</td>\n",
       "      <td>61</td>\n",
       "      <td>CollgCr</td>\n",
       "      <td>856</td>\n",
       "      <td>2008</td>\n",
       "      <td>0</td>\n",
       "      <td>...</td>\n",
       "      <td>0</td>\n",
       "      <td>0</td>\n",
       "      <td>2003</td>\n",
       "      <td>Ex</td>\n",
       "      <td>Norm</td>\n",
       "      <td>RL</td>\n",
       "      <td>Gable</td>\n",
       "      <td>TA</td>\n",
       "      <td>2</td>\n",
       "      <td>CompShg</td>\n",
       "    </tr>\n",
       "    <tr>\n",
       "      <th>1</th>\n",
       "      <td>1976</td>\n",
       "      <td>Pave</td>\n",
       "      <td>Typ</td>\n",
       "      <td>MetalSd</td>\n",
       "      <td>1262</td>\n",
       "      <td>0</td>\n",
       "      <td>Veenker</td>\n",
       "      <td>1262</td>\n",
       "      <td>2007</td>\n",
       "      <td>298</td>\n",
       "      <td>...</td>\n",
       "      <td>0</td>\n",
       "      <td>0</td>\n",
       "      <td>1976</td>\n",
       "      <td>Ex</td>\n",
       "      <td>Feedr</td>\n",
       "      <td>RL</td>\n",
       "      <td>Gable</td>\n",
       "      <td>TA</td>\n",
       "      <td>2</td>\n",
       "      <td>CompShg</td>\n",
       "    </tr>\n",
       "    <tr>\n",
       "      <th>2</th>\n",
       "      <td>2001</td>\n",
       "      <td>Pave</td>\n",
       "      <td>Typ</td>\n",
       "      <td>VinylSd</td>\n",
       "      <td>920</td>\n",
       "      <td>42</td>\n",
       "      <td>CollgCr</td>\n",
       "      <td>920</td>\n",
       "      <td>2008</td>\n",
       "      <td>0</td>\n",
       "      <td>...</td>\n",
       "      <td>0</td>\n",
       "      <td>0</td>\n",
       "      <td>2002</td>\n",
       "      <td>Ex</td>\n",
       "      <td>Norm</td>\n",
       "      <td>RL</td>\n",
       "      <td>Gable</td>\n",
       "      <td>TA</td>\n",
       "      <td>2</td>\n",
       "      <td>CompShg</td>\n",
       "    </tr>\n",
       "    <tr>\n",
       "      <th>3</th>\n",
       "      <td>1915</td>\n",
       "      <td>Pave</td>\n",
       "      <td>Typ</td>\n",
       "      <td>Wd Sdng</td>\n",
       "      <td>756</td>\n",
       "      <td>35</td>\n",
       "      <td>Crawfor</td>\n",
       "      <td>961</td>\n",
       "      <td>2006</td>\n",
       "      <td>0</td>\n",
       "      <td>...</td>\n",
       "      <td>0</td>\n",
       "      <td>0</td>\n",
       "      <td>1970</td>\n",
       "      <td>Gd</td>\n",
       "      <td>Norm</td>\n",
       "      <td>RL</td>\n",
       "      <td>Gable</td>\n",
       "      <td>TA</td>\n",
       "      <td>3</td>\n",
       "      <td>CompShg</td>\n",
       "    </tr>\n",
       "    <tr>\n",
       "      <th>4</th>\n",
       "      <td>2000</td>\n",
       "      <td>Pave</td>\n",
       "      <td>Typ</td>\n",
       "      <td>VinylSd</td>\n",
       "      <td>1145</td>\n",
       "      <td>84</td>\n",
       "      <td>NoRidge</td>\n",
       "      <td>1145</td>\n",
       "      <td>2008</td>\n",
       "      <td>192</td>\n",
       "      <td>...</td>\n",
       "      <td>0</td>\n",
       "      <td>0</td>\n",
       "      <td>2000</td>\n",
       "      <td>Ex</td>\n",
       "      <td>Norm</td>\n",
       "      <td>RL</td>\n",
       "      <td>Gable</td>\n",
       "      <td>TA</td>\n",
       "      <td>3</td>\n",
       "      <td>CompShg</td>\n",
       "    </tr>\n",
       "  </tbody>\n",
       "</table>\n",
       "<p>5 rows × 61 columns</p>\n",
       "</div>"
      ],
      "text/plain": [
       "   YearBuilt Street Functional Exterior1st  TotalBsmtSF  OpenPorchSF  \\\n",
       "0       2003   Pave        Typ     VinylSd          856           61   \n",
       "1       1976   Pave        Typ     MetalSd         1262            0   \n",
       "2       2001   Pave        Typ     VinylSd          920           42   \n",
       "3       1915   Pave        Typ     Wd Sdng          756           35   \n",
       "4       2000   Pave        Typ     VinylSd         1145           84   \n",
       "\n",
       "  Neighborhood  1stFlrSF  YrSold  WoodDeckSF  ... PoolArea  ScreenPorch  \\\n",
       "0      CollgCr       856    2008           0  ...        0            0   \n",
       "1      Veenker      1262    2007         298  ...        0            0   \n",
       "2      CollgCr       920    2008           0  ...        0            0   \n",
       "3      Crawfor       961    2006           0  ...        0            0   \n",
       "4      NoRidge      1145    2008         192  ...        0            0   \n",
       "\n",
       "   YearRemodAdd HeatingQC  Condition1  MSZoning RoofStyle  ExterCond  \\\n",
       "0          2003        Ex        Norm        RL     Gable         TA   \n",
       "1          1976        Ex       Feedr        RL     Gable         TA   \n",
       "2          2002        Ex        Norm        RL     Gable         TA   \n",
       "3          1970        Gd        Norm        RL     Gable         TA   \n",
       "4          2000        Ex        Norm        RL     Gable         TA   \n",
       "\n",
       "   GarageCars RoofMatl  \n",
       "0           2  CompShg  \n",
       "1           2  CompShg  \n",
       "2           2  CompShg  \n",
       "3           3  CompShg  \n",
       "4           3  CompShg  \n",
       "\n",
       "[5 rows x 61 columns]"
      ]
     },
     "execution_count": 10,
     "metadata": {},
     "output_type": "execute_result"
    }
   ],
   "source": [
    "cols_with_missing = df_ames.columns[df_ames.isnull().any()]\n",
    "cols = set(df_ames.columns) - set(cols_with_missing)\n",
    "\n",
    "X = df_ames[cols].drop('SalePrice', axis=1)\n",
    "y = df_ames['SalePrice']\n",
    "X.head()"
   ]
  },
  {
   "cell_type": "code",
   "execution_count": 11,
   "metadata": {},
   "outputs": [
    {
     "data": {
      "text/plain": [
       "(1460, 216)"
      ]
     },
     "execution_count": 11,
     "metadata": {},
     "output_type": "execute_result"
    }
   ],
   "source": [
    "X = pd.get_dummies(X)\n",
    "X.shape"
   ]
  },
  {
   "cell_type": "markdown",
   "metadata": {},
   "source": [
    "###  Getting a baseline model"
   ]
  },
  {
   "cell_type": "code",
   "execution_count": 12,
   "metadata": {},
   "outputs": [
    {
     "data": {
      "text/plain": [
       "(0.9248806317267595, -1758145.9325634402)"
      ]
     },
     "execution_count": 12,
     "metadata": {},
     "output_type": "execute_result"
    }
   ],
   "source": [
    "lm = LinearRegression()\n",
    "score(X, y, lm, n=30)"
   ]
  },
  {
   "cell_type": "code",
   "execution_count": 13,
   "metadata": {},
   "outputs": [],
   "source": [
    "coef = np.clip(lm.coef_,-1e10,1e8) #Clip so we can display"
   ]
  },
  {
   "cell_type": "code",
   "execution_count": 14,
   "metadata": {},
   "outputs": [
    {
     "data": {
      "text/plain": [
       "12154683850070.742"
      ]
     },
     "execution_count": 14,
     "metadata": {},
     "output_type": "execute_result"
    }
   ],
   "source": [
    "np.max(lm.coef_) #Wow, look at the size of this coefficient"
   ]
  },
  {
   "cell_type": "code",
   "execution_count": 15,
   "metadata": {},
   "outputs": [
    {
     "data": {
      "text/plain": [
       "1663767889358.4016"
      ]
     },
     "execution_count": 15,
     "metadata": {},
     "output_type": "execute_result"
    }
   ],
   "source": [
    "np.std(lm.coef_)"
   ]
  },
  {
   "cell_type": "code",
   "execution_count": 16,
   "metadata": {},
   "outputs": [
    {
     "data": {
      "image/png": "[encoded data removed]",
      "text/plain": [
       "<Figure size 432x252 with 1 Axes>"
      ]
     },
     "metadata": {
      "image/png": {
       "height": 239,
       "width": 423
      },
      "needs_background": "light"
     },
     "output_type": "display_data"
    }
   ],
   "source": [
    "import matplotlib as mpl\n",
    "plt.figure(figsize=(6,3.5))\n",
    "plt.bar(range(len(coef)),coef)\n",
    "plt.xlabel(\"Regression coefficient $\\\\beta_i$ for $i>0$\", fontsize=12)\n",
    "plt.ylabel(\"Regression coefficient value\\nclipped to 1e8 magnitude\", fontsize=12)\n",
    "plt.gca().yaxis.set_major_formatter(mpl.ticker.StrMethodFormatter('{x:.1}'))\n",
    "#plt.title(lm)\n",
    "plt.show()"
   ]
  },
  {
   "cell_type": "code",
   "execution_count": 17,
   "metadata": {},
   "outputs": [
    {
     "name": "stdout",
     "output_type": "stream",
     "text": [
      "R^2 training, test scores (0.9262667586894423, -5265654.44541101)\n"
     ]
    }
   ],
   "source": [
    "print(\"R^2 training, test scores\", score(X, y, lm, n=30))"
   ]
  },
  {
   "cell_type": "markdown",
   "metadata": {},
   "source": [
    "Wow, look at the size of those coefficients. They are huge and all over the place, which is what we'd expect given such a terrible test R^2 score. The coefficients are so bad that prediction suffers."
   ]
  },
  {
   "cell_type": "markdown",
   "metadata": {},
   "source": [
    "## Normalization\n",
    "\n",
    "We did not normalize our variable for the synthetic data set because we only had one variable.  Normally, we have to convert all X variables to standard scores so they are all in the same range and zero centered. If the variables are all in different ranges, regularization will squash some coefficients more than the others because all regularization does is constrain coefficients."
   ]
  },
  {
   "cell_type": "code",
   "execution_count": 18,
   "metadata": {},
   "outputs": [],
   "source": [
    "from pandas.api.types import is_numeric_dtype\n",
    "def normalize(X): # well, I'm creating standard variables here (u-x)/sigma\n",
    "    for colname in X.columns:\n",
    "        if is_numeric_dtype(X[colname]):\n",
    "            u = np.mean(X[colname])\n",
    "            s = np.std(X[colname])\n",
    "            X[colname] = (X[colname] - u) / s"
   ]
  },
  {
   "cell_type": "code",
   "execution_count": 19,
   "metadata": {},
   "outputs": [],
   "source": [
    "X = df_ames[cols].drop('SalePrice', axis=1)\n",
    "y = df_ames['SalePrice']"
   ]
  },
  {
   "cell_type": "code",
   "execution_count": 20,
   "metadata": {},
   "outputs": [
    {
     "data": {
      "text/html": [
       "<div>\n",
       "<style scoped>\n",
       "    .dataframe tbody tr th:only-of-type {\n",
       "        vertical-align: middle;\n",
       "    }\n",
       "\n",
       "    .dataframe tbody tr th {\n",
       "        vertical-align: top;\n",
       "    }\n",
       "\n",
       "    .dataframe thead th {\n",
       "        text-align: right;\n",
       "    }\n",
       "</style>\n",
       "<table border=\"1\" class=\"dataframe\">\n",
       "  <thead>\n",
       "    <tr style=\"text-align: right;\">\n",
       "      <th></th>\n",
       "      <th>YearBuilt</th>\n",
       "      <th>Street</th>\n",
       "      <th>Functional</th>\n",
       "      <th>Exterior1st</th>\n",
       "      <th>TotalBsmtSF</th>\n",
       "      <th>OpenPorchSF</th>\n",
       "      <th>Neighborhood</th>\n",
       "      <th>1stFlrSF</th>\n",
       "      <th>YrSold</th>\n",
       "      <th>WoodDeckSF</th>\n",
       "      <th>...</th>\n",
       "      <th>PoolArea</th>\n",
       "      <th>ScreenPorch</th>\n",
       "      <th>YearRemodAdd</th>\n",
       "      <th>HeatingQC</th>\n",
       "      <th>Condition1</th>\n",
       "      <th>MSZoning</th>\n",
       "      <th>RoofStyle</th>\n",
       "      <th>ExterCond</th>\n",
       "      <th>GarageCars</th>\n",
       "      <th>RoofMatl</th>\n",
       "    </tr>\n",
       "  </thead>\n",
       "  <tbody>\n",
       "    <tr>\n",
       "      <th>0</th>\n",
       "      <td>1.050994</td>\n",
       "      <td>Pave</td>\n",
       "      <td>Typ</td>\n",
       "      <td>VinylSd</td>\n",
       "      <td>-0.459303</td>\n",
       "      <td>0.216503</td>\n",
       "      <td>CollgCr</td>\n",
       "      <td>-0.793434</td>\n",
       "      <td>0.138777</td>\n",
       "      <td>-0.752176</td>\n",
       "      <td>...</td>\n",
       "      <td>-0.068692</td>\n",
       "      <td>-0.270208</td>\n",
       "      <td>0.878668</td>\n",
       "      <td>Ex</td>\n",
       "      <td>Norm</td>\n",
       "      <td>RL</td>\n",
       "      <td>Gable</td>\n",
       "      <td>TA</td>\n",
       "      <td>0.311725</td>\n",
       "      <td>CompShg</td>\n",
       "    </tr>\n",
       "    <tr>\n",
       "      <th>1</th>\n",
       "      <td>0.156734</td>\n",
       "      <td>Pave</td>\n",
       "      <td>Typ</td>\n",
       "      <td>MetalSd</td>\n",
       "      <td>0.466465</td>\n",
       "      <td>-0.704483</td>\n",
       "      <td>Veenker</td>\n",
       "      <td>0.257140</td>\n",
       "      <td>-0.614439</td>\n",
       "      <td>1.626195</td>\n",
       "      <td>...</td>\n",
       "      <td>-0.068692</td>\n",
       "      <td>-0.270208</td>\n",
       "      <td>-0.429577</td>\n",
       "      <td>Ex</td>\n",
       "      <td>Feedr</td>\n",
       "      <td>RL</td>\n",
       "      <td>Gable</td>\n",
       "      <td>TA</td>\n",
       "      <td>0.311725</td>\n",
       "      <td>CompShg</td>\n",
       "    </tr>\n",
       "  </tbody>\n",
       "</table>\n",
       "<p>2 rows × 61 columns</p>\n",
       "</div>"
      ],
      "text/plain": [
       "   YearBuilt Street Functional Exterior1st  TotalBsmtSF  OpenPorchSF  \\\n",
       "0   1.050994   Pave        Typ     VinylSd    -0.459303     0.216503   \n",
       "1   0.156734   Pave        Typ     MetalSd     0.466465    -0.704483   \n",
       "\n",
       "  Neighborhood  1stFlrSF    YrSold  WoodDeckSF  ...  PoolArea  ScreenPorch  \\\n",
       "0      CollgCr -0.793434  0.138777   -0.752176  ... -0.068692    -0.270208   \n",
       "1      Veenker  0.257140 -0.614439    1.626195  ... -0.068692    -0.270208   \n",
       "\n",
       "   YearRemodAdd HeatingQC  Condition1  MSZoning RoofStyle  ExterCond  \\\n",
       "0      0.878668        Ex        Norm        RL     Gable         TA   \n",
       "1     -0.429577        Ex       Feedr        RL     Gable         TA   \n",
       "\n",
       "   GarageCars RoofMatl  \n",
       "0    0.311725  CompShg  \n",
       "1    0.311725  CompShg  \n",
       "\n",
       "[2 rows x 61 columns]"
      ]
     },
     "execution_count": 20,
     "metadata": {},
     "output_type": "execute_result"
    }
   ],
   "source": [
    "normalize(X) # do this before getting dummy variables\n",
    "X.head(2)"
   ]
  },
  {
   "cell_type": "code",
   "execution_count": 21,
   "metadata": {},
   "outputs": [],
   "source": [
    "X = pd.get_dummies(X) # make sure to normalize before you get the dummy variables"
   ]
  },
  {
   "cell_type": "code",
   "execution_count": 22,
   "metadata": {},
   "outputs": [
    {
     "data": {
      "text/plain": [
       "(0.9240834419105391, -8.892487936406606e+18)"
      ]
     },
     "execution_count": 22,
     "metadata": {},
     "output_type": "execute_result"
    }
   ],
   "source": [
    "lm = LinearRegression()\n",
    "score(X, y, lm, n=30)"
   ]
  },
  {
   "cell_type": "code",
   "execution_count": 23,
   "metadata": {},
   "outputs": [
    {
     "data": {
      "image/png": "[encoded data removed]",
      "text/plain": [
       "<Figure size 432x288 with 1 Axes>"
      ]
     },
     "metadata": {
      "image/png": {
       "height": 277,
       "width": 422
      },
      "needs_background": "light"
     },
     "output_type": "display_data"
    }
   ],
   "source": [
    "import matplotlib as mpl\n",
    "plt.bar(range(len(coef)),coef)\n",
    "plt.xlabel(\"Regression coefficient $\\\\beta_i$ for $i>0$\", fontsize=12)\n",
    "plt.ylabel(\"Regression coefficient value\\nclipped to 1e8 magnitude\", fontsize=12)\n",
    "plt.gca().yaxis.set_major_formatter(mpl.ticker.StrMethodFormatter('{x:.1}'))\n",
    "plt.tight_layout()\n",
    "plt.savefig(\"/Users/parrt/Desktop/ames.png\", dpi=200)\n",
    "plt.show()"
   ]
  },
  {
   "cell_type": "markdown",
   "metadata": {},
   "source": [
    "### L1 regularization with normalization"
   ]
  },
  {
   "cell_type": "code",
   "execution_count": 24,
   "metadata": {},
   "outputs": [
    {
     "data": {
      "text/plain": [
       "(0.902340342850015, 0.8640846361862187)"
      ]
     },
     "execution_count": 24,
     "metadata": {},
     "output_type": "execute_result"
    }
   ],
   "source": [
    "lm = Lasso(alpha=10, tol=0.1)\n",
    "score(X, y, lm, n=10, random_state=42)"
   ]
  },
  {
   "cell_type": "code",
   "execution_count": 25,
   "metadata": {},
   "outputs": [
    {
     "name": "stdout",
     "output_type": "stream",
     "text": [
      "std(coef)=46991.4, num 0 coeff=108\n"
     ]
    }
   ],
   "source": [
    "print(f\"std(coef)={np.std(lm.coef_):.1f}, num 0 coeff={len(np.where(lm.coef_<0.1)[0])}\")"
   ]
  },
  {
   "cell_type": "code",
   "execution_count": 26,
   "metadata": {},
   "outputs": [
    {
     "data": {
      "image/png": "[encoded data removed]",
      "text/plain": [
       "<Figure size 432x288 with 1 Axes>"
      ]
     },
     "metadata": {
      "image/png": {
       "height": 277,
       "width": 423
      },
      "needs_background": "light"
     },
     "output_type": "display_data"
    }
   ],
   "source": [
    "plt.bar(range(len(lm.coef_)),lm.coef_)\n",
    "plt.xlabel(\"Regression coefficient $\\\\beta_i$ for $i>0$\", fontsize=12)\n",
    "plt.ylabel(\"Regression coefficient value\", fontsize=12)\n",
    "plt.ylim(-30_000, 30_000)\n",
    "plt.tight_layout()\n",
    "plt.savefig(\"/Users/parrt/Desktop/ames-L1.png\", dpi=200)\n",
    "plt.show()"
   ]
  },
  {
   "cell_type": "markdown",
   "metadata": {},
   "source": [
    "### L2 regularization with normalization"
   ]
  },
  {
   "cell_type": "code",
   "execution_count": 27,
   "metadata": {},
   "outputs": [
    {
     "data": {
      "text/plain": [
       "(0.891980125925184, 0.818760456773096)"
      ]
     },
     "execution_count": 27,
     "metadata": {},
     "output_type": "execute_result"
    }
   ],
   "source": [
    "lm = Ridge(alpha=10)\n",
    "score(X, y, lm, n=50)"
   ]
  },
  {
   "cell_type": "code",
   "execution_count": 28,
   "metadata": {},
   "outputs": [
    {
     "name": "stdout",
     "output_type": "stream",
     "text": [
      "std(coef)=7289.4, num 0 coeff=105\n"
     ]
    }
   ],
   "source": [
    "print(f\"std(coef)={np.std(lm.coef_):.1f}, num 0 coeff={len(np.where(lm.coef_<0.1)[0])}\")"
   ]
  },
  {
   "cell_type": "code",
   "execution_count": 29,
   "metadata": {},
   "outputs": [
    {
     "data": {
      "image/png": "[encoded data removed]",
      "text/plain": [
       "<Figure size 432x288 with 1 Axes>"
      ]
     },
     "metadata": {
      "image/png": {
       "height": 270,
       "width": 412
      },
      "needs_background": "light"
     },
     "output_type": "display_data"
    }
   ],
   "source": [
    "plt.bar(range(len(lm.coef_)),lm.coef_)\n",
    "plt.xlabel(\"Regression coefficient $\\\\beta_i$ for $i>0$\", fontsize=12)\n",
    "plt.ylabel(\"Regression coefficient value\", fontsize=12)\n",
    "plt.ylim(-30_000, 30_000)\n",
    "plt.show()"
   ]
  }
 ],
 "metadata": {
  "kernelspec": {
   "display_name": "Python 3",
   "language": "python",
   "name": "python3"
  },
  "language_info": {
   "codemirror_mode": {
    "name": "ipython",
    "version": 3
   },
   "file_extension": ".py",
   "mimetype": "text/x-python",
   "name": "python",
   "nbconvert_exporter": "python",
   "pygments_lexer": "ipython3",
   "version": "3.8.6"
  }
 },
 "nbformat": 4,
 "nbformat_minor": 4
}
