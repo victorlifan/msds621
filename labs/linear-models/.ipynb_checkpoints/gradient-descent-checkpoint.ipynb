{
 "cells": [
  {
   "cell_type": "markdown",
   "metadata": {},
   "source": [
    "# Gradient descent in action"
   ]
  },
  {
   "cell_type": "markdown",
   "metadata": {},
   "source": [
    "## Goal\n",
    "\n",
    "The goal of this lab is to explore how chasing function gradients can find the function minimum. If the function is a loss function representing the quality of a model's fit to a training set, we can use function minimization to train models.\n",
    "\n",
    "When there is no symbolic solution to minimizing the loss function, we need an iterative solution, such as gradient descent."
   ]
  },
  {
   "cell_type": "markdown",
   "metadata": {},
   "source": [
    "## Set up"
   ]
  },
  {
   "cell_type": "code",
   "execution_count": 1,
   "metadata": {},
   "outputs": [],
   "source": [
    "import numpy as np\n",
    "import pandas as pd\n",
    "\n",
    "from mpl_toolkits.mplot3d import Axes3D # required even though not ref'd!\n",
    "from sklearn.linear_model import LinearRegression, LogisticRegression, Lasso, Ridge\n",
    "from sklearn.ensemble import RandomForestRegressor\n",
    "from sklearn.datasets import load_boston\n",
    "from sklearn.model_selection import train_test_split\n",
    "from sklearn.metrics import confusion_matrix, precision_score, recall_score, log_loss, mean_absolute_error\n",
    "\n",
    "import matplotlib.pyplot as plt\n",
    "import matplotlib as mpl\n",
    "%config InlineBackend.figure_format = 'retina'"
   ]
  },
  {
   "cell_type": "code",
   "execution_count": 2,
   "metadata": {},
   "outputs": [],
   "source": [
    "def normalize(X):\n",
    "    X = X.copy()\n",
    "    for colname in X.columns:\n",
    "        u = np.mean(X[colname])\n",
    "        s = np.std(X[colname])\n",
    "        if s>0.0:\n",
    "            X[colname] = (X[colname] - u) / s\n",
    "        else:\n",
    "            X[colname] = (X[colname] - u)\n",
    "    return X"
   ]
  },
  {
   "cell_type": "code",
   "execution_count": 3,
   "metadata": {},
   "outputs": [],
   "source": [
    "def plot3d(X, y, b0_range, b1_range):\n",
    "    b0_mesh, b1_mesh = np.meshgrid(b0_range, b1_range, indexing='ij')\n",
    "    L = np.zeros(b0_mesh.shape)\n",
    "\n",
    "    for i in range(len(b0_range)):\n",
    "        for j in range(len(b1_range)):\n",
    "            L[i,j] = loss([b0_range[i],b1_range[j]], X=X, y=y)\n",
    "\n",
    "    fig = plt.figure(figsize=(5,4))\n",
    "    ax = fig.add_subplot(111, projection='3d')\n",
    "    surface = ax.plot_surface(b0_mesh, b1_mesh, L, alpha=0.7, cmap='coolwarm')\n",
    "    ax.set_xlabel('$\\\\beta_0$', fontsize=14)\n",
    "    ax.set_ylabel('$\\\\beta_1$', fontsize=14)"
   ]
  },
  {
   "cell_type": "markdown",
   "metadata": {},
   "source": [
    "## Simple function gradient descent\n",
    "\n",
    "Let's define a very simple quadratic in one variable, $y = f(x) = (x-2)^2$ and then use an iterative solution to find the minimum value."
   ]
  },
  {
   "cell_type": "code",
   "execution_count": 4,
   "metadata": {},
   "outputs": [],
   "source": [
    "def f(x) : return (x-2)**2"
   ]
  },
  {
   "cell_type": "markdown",
   "metadata": {},
   "source": [
    "We can hide all of the plotting details in a function, as we will use it multiple times."
   ]
  },
  {
   "cell_type": "code",
   "execution_count": 5,
   "metadata": {},
   "outputs": [],
   "source": [
    "def fplot(f,xrange,fstr='',x0=None,xn=None):\n",
    "    plt.figure(figsize=(3.5,2))\n",
    "    lx = np.linspace(*xrange,200)    \n",
    "    fx = [f(x) for x in lx]\n",
    "    plt.plot(lx, fx, lw=.75)\n",
    "    if x0 is not None:\n",
    "        plt.scatter([x0], [f(x0)], c='orange')\n",
    "        plt.scatter([xn], [f(xn)], c='green')\n",
    "    plt.xlabel(\"$x$\", fontsize=12)\n",
    "    plt.ylabel(fstr, fontsize=12)"
   ]
  },
  {
   "cell_type": "code",
   "execution_count": 6,
   "metadata": {},
   "outputs": [
    {
     "data": {
      "image/png": "[encoded data removed]",
      "text/plain": [
       "<Figure size 252x144 with 1 Axes>"
      ]
     },
     "metadata": {
      "image/png": {
       "height": 155,
       "width": 242
      },
      "needs_background": "light"
     },
     "output_type": "display_data"
    }
   ],
   "source": [
    "fplot(f, xrange=(0,4), fstr=\"$(x-2)^2$\")"
   ]
  },
  {
   "cell_type": "markdown",
   "metadata": {},
   "source": [
    "To minimize a function of $x$, we need the derivative of $f(x)$, which is just a function that gives the slope of the curve at every $x$.\n",
    "\n",
    "**1. Define a function returning the derivative of $f(x)$**\n",
    "\n",
    "You can ask for symbolic derivatives at a variety of sites, but here's one [solution](https://www.symbolab.com/solver/derivative-calculator/%5Cfrac%7Bd%7D%7Bdx%7D%5Cleft(x-2%5Cright)%5E%7B2%7D)."
   ]
  },
  {
   "cell_type": "code",
   "execution_count": 17,
   "metadata": {},
   "outputs": [],
   "source": [
    "def df(x):\n",
    "    return 2*(x-2)"
   ]
  },
  {
   "cell_type": "markdown",
   "metadata": {},
   "source": [
    "<details>\n",
    "<summary>Solution</summary>\n",
    "<pre>\n",
    "def df(x): return 2*(x-2)</pre>\n",
    "</details>"
   ]
  },
  {
   "cell_type": "markdown",
   "metadata": {},
   "source": [
    "**2. Pick an initial $x$ location and take a single step according to the derivative**\n",
    "\n",
    "Use a learning rate of $\\eta = 0.4$. The output should be `1.76`. (Also keep in mind that the minimum value is clearly at $x=2$.)"
   ]
  },
  {
   "cell_type": "code",
   "execution_count": 18,
   "metadata": {},
   "outputs": [],
   "source": [
    "x = .8 # initial x location"
   ]
  },
  {
   "cell_type": "code",
   "execution_count": 19,
   "metadata": {},
   "outputs": [
    {
     "name": "stdout",
     "output_type": "stream",
     "text": [
      "1.76\n"
     ]
    }
   ],
   "source": [
    "x -=.4*df(x)\n",
    "print(x)"
   ]
  },
  {
   "cell_type": "markdown",
   "metadata": {},
   "source": [
    "<details>\n",
    "<summary>Solution</summary>\n",
    "<pre>\n",
    "x = x - .4 * df(x); print(x)\n",
    "</pre>\n",
    "</details>"
   ]
  },
  {
   "cell_type": "markdown",
   "metadata": {},
   "source": [
    "**Q.** How can we symbolically optimize a quadratic function like this with a single minimum?"
   ]
  },
  {
   "cell_type": "markdown",
   "metadata": {},
   "source": [
    "iterate x through df(x) until df(x) is 0 (where x= 2)"
   ]
  },
  {
   "cell_type": "markdown",
   "metadata": {},
   "source": [
    "<details>\n",
    "<summary>Solution</summary>\n",
    "When the derivative goes to zero, it means the curve is flat, which in turn means we are at the function minimum. Set the derivative equal to zero and solve for $x$: $\\frac{d}{dx} (x-2)^2 = 2(x-2) = 2x-4 = 0$.  Solving for $x$ gives $x=2$.\n",
    "</details>"
   ]
  },
  {
   "cell_type": "markdown",
   "metadata": {},
   "source": [
    "**3. Create a loop that takes five more steps (same learning rate)**\n",
    "\n",
    "The output should look like:\n",
    "\n",
    "```\n",
    "1.952\n",
    "1.9904\n",
    "1.99808\n",
    "1.999616\n",
    "1.9999232\n",
    "```"
   ]
  },
  {
   "cell_type": "code",
   "execution_count": 21,
   "metadata": {},
   "outputs": [
    {
     "name": "stdout",
     "output_type": "stream",
     "text": [
      "1.99998464\n",
      "1.999996928\n",
      "1.9999993856\n",
      "1.99999987712\n",
      "1.999999975424\n"
     ]
    }
   ],
   "source": [
    "for i in range(5):\n",
    "    x-= 0.4*df(x)\n",
    "    print(x)"
   ]
  },
  {
   "cell_type": "markdown",
   "metadata": {},
   "source": [
    "<details>\n",
    "<summary>Solution</summary>\n",
    "<pre>\n",
    "for i in range(5):\n",
    "    x = x - 0.4 * df(x); print(x)\n",
    "</pre>\n",
    "</details>"
   ]
  },
  {
   "cell_type": "markdown",
   "metadata": {},
   "source": [
    "Notice how fast the iteration moves $x$ to the location where $f(x)$ is minimum!"
   ]
  },
  {
   "cell_type": "markdown",
   "metadata": {},
   "source": [
    "### Minimizing a more complicated function\n",
    "\n",
    "This iterative minimization approach works for any (smooth) function, assuming we choose a small enough learning rate.  For example, let's find one of the minima for $f(x) = x \\sin(0.6x)$ in the range \\[-1,10\\]. The plot should look something like:\n",
    "\n",
    "<img src=\"xsinx.png\" width=\"200\">\n",
    "\n",
    "Depending on where we start, minimization will find either minimum at $x=0$ or at $8.18$.  The location of the lowest function value is called the global minimum and any others are called local minima."
   ]
  },
  {
   "cell_type": "markdown",
   "metadata": {},
   "source": [
    "**1. Define a function for $x \\sin(0.6x)$**"
   ]
  },
  {
   "cell_type": "code",
   "execution_count": 23,
   "metadata": {},
   "outputs": [],
   "source": [
    "def f(x) : return np.sin(0.6*x)*x"
   ]
  },
  {
   "cell_type": "markdown",
   "metadata": {},
   "source": [
    "<details>\n",
    "<summary>Solution</summary>\n",
    "<pre>\n",
    "def f(x) : return np.sin(0.6*x)*x\n",
    "</pre>\n",
    "</details>"
   ]
  },
  {
   "cell_type": "code",
   "execution_count": 24,
   "metadata": {},
   "outputs": [
    {
     "data": {
      "image/png": "[encoded data removed]",
      "text/plain": [
       "<Figure size 252x144 with 1 Axes>"
      ]
     },
     "metadata": {
      "image/png": {
       "height": 155,
       "width": 260
      },
      "needs_background": "light"
     },
     "output_type": "display_data"
    }
   ],
   "source": [
    "fplot(f, xrange=(-1,10), fstr=\"$x \\sin(0.6x)$\")\n",
    "#plt.tight_layout(); plt.savefig(\"xsinx.png\",dpi=150,bbox_inches=0)"
   ]
  },
  {
   "cell_type": "markdown",
   "metadata": {},
   "source": [
    "**2. Define the derivative function: $\\frac{df}{dx} = 0.6x \\cos(0.6 x) + \\sin(0.6 x)$**"
   ]
  },
  {
   "cell_type": "code",
   "execution_count": 25,
   "metadata": {},
   "outputs": [],
   "source": [
    "def df(x):return 0.6*x*np.cos(0.6*x)+np.sin(0.6*x)"
   ]
  },
  {
   "cell_type": "markdown",
   "metadata": {},
   "source": [
    "<details>\n",
    "<summary>Solution</summary>\n",
    "<pre>\n",
    "def df(x): return 0.6*x * np.cos(0.6*x) + np.sin(0.6*x)\n",
    "</pre>\n",
    "</details>"
   ]
  },
  {
   "cell_type": "markdown",
   "metadata": {},
   "source": [
    "**3. Pick a random initial value, $x_0$, between -1 and 10; display that value**"
   ]
  },
  {
   "cell_type": "code",
   "execution_count": 29,
   "metadata": {},
   "outputs": [
    {
     "data": {
      "text/plain": [
       "5.559495711773052"
      ]
     },
     "execution_count": 29,
     "metadata": {},
     "output_type": "execute_result"
    }
   ],
   "source": [
    "x0 = np.random.rand()*11 - 1 # pick value between -1 and 10\n",
    "x0"
   ]
  },
  {
   "cell_type": "markdown",
   "metadata": {},
   "source": [
    "**4. Start $x$ at $x_0$ and iterate 12 times using the gradient descent method**\n",
    "\n",
    "Use a learning rate of 0.4."
   ]
  },
  {
   "cell_type": "code",
   "execution_count": 30,
   "metadata": {},
   "outputs": [
    {
     "name": "stdout",
     "output_type": "stream",
     "text": [
      "6.9458731917\n",
      "8.1519676441\n",
      "8.1976512274\n",
      "8.1863574835\n",
      "8.1892052254\n",
      "8.1884905408\n",
      "8.1886701172\n",
      "8.1886250092\n",
      "8.1886363408\n",
      "8.1886334942\n",
      "8.1886342093\n",
      "8.1886340297\n"
     ]
    }
   ],
   "source": [
    "x = x0\n",
    "for i in range(12):\n",
    "    x = x - .4 * df(x); print(f\"{x:.10f}\")"
   ]
  },
  {
   "cell_type": "markdown",
   "metadata": {},
   "source": [
    "**5. Plot the starting and stopping locations on the curve**"
   ]
  },
  {
   "cell_type": "code",
   "execution_count": 31,
   "metadata": {},
   "outputs": [
    {
     "data": {
      "image/png": "[encoded data removed]",
      "text/plain": [
       "<Figure size 252x144 with 1 Axes>"
      ]
     },
     "metadata": {
      "image/png": {
       "height": 155,
       "width": 260
      },
      "needs_background": "light"
     },
     "output_type": "display_data"
    }
   ],
   "source": [
    "fplot(f, xrange=(-1,10), fstr=\"$x \\sin(0.6x)$\", x0=x0, xn=x)"
   ]
  },
  {
   "cell_type": "markdown",
   "metadata": {},
   "source": [
    "**6. Rerun the notebook several times to see how the random start location affects where it terminates.**"
   ]
  },
  {
   "cell_type": "markdown",
   "metadata": {},
   "source": [
    "**Q.** Rather than iterating a fixed number of times, what's a better way to terminate the iteration?"
   ]
  },
  {
   "cell_type": "markdown",
   "metadata": {},
   "source": [
    "setup a threshold of gradient, stop when B is smaller than certian small number"
   ]
  },
  {
   "cell_type": "markdown",
   "metadata": {},
   "source": [
    "<details>\n",
    "<summary>Solution</summary>\n",
    "A simple stopping condition is when the (norm of the) gradient goes to zero, meaning that it does not suggest we move in any direction to get a lower loss of function value. We could also check to see if the new $x$ location is substantially different from the previous.\n",
    "</details>"
   ]
  },
  {
   "cell_type": "markdown",
   "metadata": {},
   "source": [
    "## The effect of learning rate on convergence\n",
    "\n",
    "Let's move back to the simple function $f(x) = (x-2)^2$ and consider different learning rates to see the effect."
   ]
  },
  {
   "cell_type": "code",
   "execution_count": 32,
   "metadata": {},
   "outputs": [],
   "source": [
    "def df(x): return 2*(x-2)"
   ]
  },
  {
   "cell_type": "markdown",
   "metadata": {},
   "source": [
    "Let's codify the minimization process in a handy function:"
   ]
  },
  {
   "cell_type": "code",
   "execution_count": 33,
   "metadata": {},
   "outputs": [],
   "source": [
    "def minimize(df,x0,eta):\n",
    "    x = x0\n",
    "    for i in range(10):\n",
    "        x = x - eta * df(x);\n",
    "        print(f\"{x:.2f}\")"
   ]
  },
  {
   "cell_type": "markdown",
   "metadata": {},
   "source": [
    "**1. Update the gradient descent loop to use a learning rate of 1.0**\n",
    "\n",
    "Notice how the learning rate is so large that iteration oscillates between two (incorrect) solutions. The output should be:\n",
    "\n",
    "```\n",
    "3.20\n",
    "0.80\n",
    "3.20\n",
    "0.80\n",
    "3.20\n",
    "0.80\n",
    "3.20\n",
    "0.80\n",
    "3.20\n",
    "0.80\n",
    "```"
   ]
  },
  {
   "cell_type": "code",
   "execution_count": 34,
   "metadata": {},
   "outputs": [
    {
     "name": "stdout",
     "output_type": "stream",
     "text": [
      "3.20\n",
      "0.80\n",
      "3.20\n",
      "0.80\n",
      "3.20\n",
      "0.80\n",
      "3.20\n",
      "0.80\n",
      "3.20\n",
      "0.80\n"
     ]
    }
   ],
   "source": [
    "minimize(df, x0=0.8, eta=1)"
   ]
  },
  {
   "cell_type": "markdown",
   "metadata": {},
   "source": [
    "**2. Update the gradient descent loop to use a learning rate of 2.0**\n",
    "\n",
    "Notice how the solution diverges when the learning rate is too big. The output should be:\n",
    "\n",
    "```\n",
    "5.60\n",
    "-8.80\n",
    "34.40\n",
    "-95.20\n",
    "293.60\n",
    "-872.80\n",
    "2626.40\n",
    "-7871.20\n",
    "23621.60\n",
    "-70856.80\n",
    "```"
   ]
  },
  {
   "cell_type": "code",
   "execution_count": 35,
   "metadata": {},
   "outputs": [
    {
     "name": "stdout",
     "output_type": "stream",
     "text": [
      "5.60\n",
      "-8.80\n",
      "34.40\n",
      "-95.20\n",
      "293.60\n",
      "-872.80\n",
      "2626.40\n",
      "-7871.20\n",
      "23621.60\n",
      "-70856.80\n"
     ]
    }
   ],
   "source": [
    "minimize(df, x0=0.8, eta=2)"
   ]
  },
  {
   "cell_type": "markdown",
   "metadata": {},
   "source": [
    "**2. Update the gradient descent loop to use a learning rate of 0.01**\n",
    "\n",
    "Notice how **slowly** the solution converges when the learning rate is two small. The output should be:\n",
    "\n",
    "```\n",
    "0.82\n",
    "0.85\n",
    "0.87\n",
    "0.89\n",
    "0.92\n",
    "0.94\n",
    "0.96\n",
    "0.98\n",
    "1.00\n",
    "1.02\n",
    "```"
   ]
  },
  {
   "cell_type": "code",
   "execution_count": 36,
   "metadata": {},
   "outputs": [
    {
     "name": "stdout",
     "output_type": "stream",
     "text": [
      "0.82\n",
      "0.85\n",
      "0.87\n",
      "0.89\n",
      "0.92\n",
      "0.94\n",
      "0.96\n",
      "0.98\n",
      "1.00\n",
      "1.02\n"
     ]
    }
   ],
   "source": [
    "minimize(df, x0=0.8, eta=.01)"
   ]
  },
  {
   "cell_type": "markdown",
   "metadata": {},
   "source": [
    "**Q.** How do you choose the learning rate $\\eta$?"
   ]
  },
  {
   "cell_type": "markdown",
   "metadata": {},
   "source": [
    "samll rate will always hit the minimum but really slow; big rate will bounce or even diverge."
   ]
  },
  {
   "cell_type": "markdown",
   "metadata": {},
   "source": [
    "<details>\n",
    "<summary>Solution</summary>\n",
    "The learning rate is specific to each problem unfortunately. A general strategy is to start with a small $\\eta$ and gradually increase it until it starts to oscillate around the solution, then back off a little bit.  Having a single global learning rate for un-normalized data usually means very slow convergence. A learning rate small enough to be appropriate for a variable with small range is unlikely to be appropriate for variable with a large range.  This is overcome with the more sophisticated gradient descent methods, such as the Adagrad strategy you will use in your project. In that case, we keep a history of gradients and use that to speed up descent in directions that are historically shallow in the gradient.\n",
    "</details>"
   ]
  },
  {
   "cell_type": "markdown",
   "metadata": {},
   "source": [
    "## Examine loss surface for LSTAT var from Boston dataset\n",
    "\n",
    "Turning to a common toy data set, the Boston housing data set, let's pick the most important single feature and look at the loss function for simple OLS regression."
   ]
  },
  {
   "cell_type": "markdown",
   "metadata": {},
   "source": [
    "**1. Load the Boston data set into a data frame**"
   ]
  },
  {
   "cell_type": "code",
   "execution_count": 37,
   "metadata": {},
   "outputs": [
    {
     "data": {
      "text/html": [
       "<div>\n",
       "<style scoped>\n",
       "    .dataframe tbody tr th:only-of-type {\n",
       "        vertical-align: middle;\n",
       "    }\n",
       "\n",
       "    .dataframe tbody tr th {\n",
       "        vertical-align: top;\n",
       "    }\n",
       "\n",
       "    .dataframe thead th {\n",
       "        text-align: right;\n",
       "    }\n",
       "</style>\n",
       "<table border=\"1\" class=\"dataframe\">\n",
       "  <thead>\n",
       "    <tr style=\"text-align: right;\">\n",
       "      <th></th>\n",
       "      <th>CRIM</th>\n",
       "      <th>ZN</th>\n",
       "      <th>INDUS</th>\n",
       "      <th>CHAS</th>\n",
       "      <th>NOX</th>\n",
       "      <th>RM</th>\n",
       "      <th>AGE</th>\n",
       "      <th>DIS</th>\n",
       "      <th>RAD</th>\n",
       "      <th>TAX</th>\n",
       "      <th>PTRATIO</th>\n",
       "      <th>B</th>\n",
       "      <th>LSTAT</th>\n",
       "    </tr>\n",
       "  </thead>\n",
       "  <tbody>\n",
       "    <tr>\n",
       "      <th>0</th>\n",
       "      <td>0.00632</td>\n",
       "      <td>18.0</td>\n",
       "      <td>2.31</td>\n",
       "      <td>0.0</td>\n",
       "      <td>0.538</td>\n",
       "      <td>6.575</td>\n",
       "      <td>65.2</td>\n",
       "      <td>4.0900</td>\n",
       "      <td>1.0</td>\n",
       "      <td>296.0</td>\n",
       "      <td>15.3</td>\n",
       "      <td>396.90</td>\n",
       "      <td>4.98</td>\n",
       "    </tr>\n",
       "    <tr>\n",
       "      <th>1</th>\n",
       "      <td>0.02731</td>\n",
       "      <td>0.0</td>\n",
       "      <td>7.07</td>\n",
       "      <td>0.0</td>\n",
       "      <td>0.469</td>\n",
       "      <td>6.421</td>\n",
       "      <td>78.9</td>\n",
       "      <td>4.9671</td>\n",
       "      <td>2.0</td>\n",
       "      <td>242.0</td>\n",
       "      <td>17.8</td>\n",
       "      <td>396.90</td>\n",
       "      <td>9.14</td>\n",
       "    </tr>\n",
       "    <tr>\n",
       "      <th>2</th>\n",
       "      <td>0.02729</td>\n",
       "      <td>0.0</td>\n",
       "      <td>7.07</td>\n",
       "      <td>0.0</td>\n",
       "      <td>0.469</td>\n",
       "      <td>7.185</td>\n",
       "      <td>61.1</td>\n",
       "      <td>4.9671</td>\n",
       "      <td>2.0</td>\n",
       "      <td>242.0</td>\n",
       "      <td>17.8</td>\n",
       "      <td>392.83</td>\n",
       "      <td>4.03</td>\n",
       "    </tr>\n",
       "    <tr>\n",
       "      <th>3</th>\n",
       "      <td>0.03237</td>\n",
       "      <td>0.0</td>\n",
       "      <td>2.18</td>\n",
       "      <td>0.0</td>\n",
       "      <td>0.458</td>\n",
       "      <td>6.998</td>\n",
       "      <td>45.8</td>\n",
       "      <td>6.0622</td>\n",
       "      <td>3.0</td>\n",
       "      <td>222.0</td>\n",
       "      <td>18.7</td>\n",
       "      <td>394.63</td>\n",
       "      <td>2.94</td>\n",
       "    </tr>\n",
       "    <tr>\n",
       "      <th>4</th>\n",
       "      <td>0.06905</td>\n",
       "      <td>0.0</td>\n",
       "      <td>2.18</td>\n",
       "      <td>0.0</td>\n",
       "      <td>0.458</td>\n",
       "      <td>7.147</td>\n",
       "      <td>54.2</td>\n",
       "      <td>6.0622</td>\n",
       "      <td>3.0</td>\n",
       "      <td>222.0</td>\n",
       "      <td>18.7</td>\n",
       "      <td>396.90</td>\n",
       "      <td>5.33</td>\n",
       "    </tr>\n",
       "  </tbody>\n",
       "</table>\n",
       "</div>"
      ],
      "text/plain": [
       "      CRIM    ZN  INDUS  CHAS    NOX     RM   AGE     DIS  RAD    TAX  \\\n",
       "0  0.00632  18.0   2.31   0.0  0.538  6.575  65.2  4.0900  1.0  296.0   \n",
       "1  0.02731   0.0   7.07   0.0  0.469  6.421  78.9  4.9671  2.0  242.0   \n",
       "2  0.02729   0.0   7.07   0.0  0.469  7.185  61.1  4.9671  2.0  242.0   \n",
       "3  0.03237   0.0   2.18   0.0  0.458  6.998  45.8  6.0622  3.0  222.0   \n",
       "4  0.06905   0.0   2.18   0.0  0.458  7.147  54.2  6.0622  3.0  222.0   \n",
       "\n",
       "   PTRATIO       B  LSTAT  \n",
       "0     15.3  396.90   4.98  \n",
       "1     17.8  396.90   9.14  \n",
       "2     17.8  392.83   4.03  \n",
       "3     18.7  394.63   2.94  \n",
       "4     18.7  396.90   5.33  "
      ]
     },
     "execution_count": 37,
     "metadata": {},
     "output_type": "execute_result"
    }
   ],
   "source": [
    "boston = load_boston()\n",
    "X = pd.DataFrame(boston.data, columns=boston.feature_names)\n",
    "y = boston.target\n",
    "X.head()"
   ]
  },
  {
   "cell_type": "markdown",
   "metadata": {},
   "source": [
    "**2. Train an OLS linear regression model**"
   ]
  },
  {
   "cell_type": "code",
   "execution_count": 38,
   "metadata": {},
   "outputs": [
    {
     "data": {
      "text/plain": [
       "LinearRegression()"
      ]
     },
     "execution_count": 38,
     "metadata": {},
     "output_type": "execute_result"
    }
   ],
   "source": [
    "lm = LinearRegression()\n",
    "lm.fit(X, y)"
   ]
  },
  {
   "cell_type": "markdown",
   "metadata": {},
   "source": [
    "**3. Using `rfpimp` package, display the feature importances**"
   ]
  },
  {
   "cell_type": "code",
   "execution_count": 39,
   "metadata": {},
   "outputs": [
    {
     "data": {
      "image/svg+xml": [
       "<?xml version=\"1.0\" encoding=\"utf-8\" standalone=\"no\"?>\n",
       "<!DOCTYPE svg PUBLIC \"-//W3C//DTD SVG 1.1//EN\"\n",
       "  \"http://www.w3.org/Graphics/SVG/1.1/DTD/svg11.dtd\">\n",
       "<svg height=\"185.438125pt\" version=\"1.1\" viewBox=\"0 0 266.776562 185.438125\" width=\"266.776562pt\" xmlns=\"http://www.w3.org/2000/svg\" xmlns:xlink=\"http://www.w3.org/1999/xlink\">\n",
       " <metadata>\n",
       "  <rdf:RDF xmlns:cc=\"http://creativecommons.org/ns#\" xmlns:dc=\"http://purl.org/dc/elements/1.1/\" xmlns:rdf=\"http://www.w3.org/1999/02/22-rdf-syntax-ns#\">\n",
       "   <cc:Work>\n",
       "    <dc:type rdf:resource=\"http://purl.org/dc/dcmitype/StillImage\"/>\n",
       "    <dc:date>2021-10-28T14:52:01.204231</dc:date>\n",
       "    <dc:format>image/svg+xml</dc:format>\n",
       "    <dc:creator>\n",
       "     <cc:Agent>\n",
       "      <dc:title>Matplotlib v3.4.3, https://matplotlib.org/</dc:title>\n",
       "     </cc:Agent>\n",
       "    </dc:creator>\n",
       "   </cc:Work>\n",
       "  </rdf:RDF>\n",
       " </metadata>\n",
       " <defs>\n",
       "  <style type=\"text/css\">*{stroke-linecap:butt;stroke-linejoin:round;}</style>\n",
       " </defs>\n",
       " <g id=\"figure_1\">\n",
       "  <g id=\"patch_1\">\n",
       "   <path d=\"M 0 185.438125 \n",
       "L 266.776562 185.438125 \n",
       "L 266.776562 0 \n",
       "L 0 0 \n",
       "z\n",
       "\" style=\"fill:none;\"/>\n",
       "  </g>\n",
       "  <g id=\"axes_1\">\n",
       "   <g id=\"patch_2\">\n",
       "    <path d=\"M 48.68125 168.76 \n",
       "L 255.64375 168.76 \n",
       "L 255.64375 -0 \n",
       "L 48.68125 -0 \n",
       "z\n",
       "\" style=\"fill:#ffffff;\"/>\n",
       "   </g>\n",
       "   <g id=\"patch_3\">\n",
       "    <path clip-path=\"url(#pa7e84bb5c9)\" d=\"M 49.969683 1.171944 \n",
       "L 254.376086 1.171944 \n",
       "L 254.376086 12.891389 \n",
       "L 49.969683 12.891389 \n",
       "z\n",
       "\" style=\"fill:#d9e6f5;stroke:#444443;stroke-linejoin:miter;stroke-width:0.5;\"/>\n",
       "   </g>\n",
       "   <g id=\"patch_4\">\n",
       "    <path clip-path=\"url(#pa7e84bb5c9)\" d=\"M 49.969683 14.063333 \n",
       "L 191.337785 14.063333 \n",
       "L 191.337785 25.782778 \n",
       "L 49.969683 25.782778 \n",
       "z\n",
       "\" style=\"fill:#d9e6f5;stroke:#444443;stroke-linejoin:miter;stroke-width:0.5;\"/>\n",
       "   </g>\n",
       "   <g id=\"patch_5\">\n",
       "    <path clip-path=\"url(#pa7e84bb5c9)\" d=\"M 49.969683 26.954722 \n",
       "L 163.306879 26.954722 \n",
       "L 163.306879 38.674167 \n",
       "L 49.969683 38.674167 \n",
       "z\n",
       "\" style=\"fill:#d9e6f5;stroke:#444443;stroke-linejoin:miter;stroke-width:0.5;\"/>\n",
       "   </g>\n",
       "   <g id=\"patch_6\">\n",
       "    <path clip-path=\"url(#pa7e84bb5c9)\" d=\"M 49.969683 39.846111 \n",
       "L 155.513627 39.846111 \n",
       "L 155.513627 51.565556 \n",
       "L 49.969683 51.565556 \n",
       "z\n",
       "\" style=\"fill:#d9e6f5;stroke:#444443;stroke-linejoin:miter;stroke-width:0.5;\"/>\n",
       "   </g>\n",
       "   <g id=\"patch_7\">\n",
       "    <path clip-path=\"url(#pa7e84bb5c9)\" d=\"M 49.969683 52.7375 \n",
       "L 127.167047 52.7375 \n",
       "L 127.167047 64.456944 \n",
       "L 49.969683 64.456944 \n",
       "z\n",
       "\" style=\"fill:#d9e6f5;stroke:#444443;stroke-linejoin:miter;stroke-width:0.5;\"/>\n",
       "   </g>\n",
       "   <g id=\"patch_8\">\n",
       "    <path clip-path=\"url(#pa7e84bb5c9)\" d=\"M 49.969683 65.628889 \n",
       "L 118.251537 65.628889 \n",
       "L 118.251537 77.348333 \n",
       "L 49.969683 77.348333 \n",
       "z\n",
       "\" style=\"fill:#d9e6f5;stroke:#444443;stroke-linejoin:miter;stroke-width:0.5;\"/>\n",
       "   </g>\n",
       "   <g id=\"patch_9\">\n",
       "    <path clip-path=\"url(#pa7e84bb5c9)\" d=\"M 49.969683 78.520278 \n",
       "L 111.749169 78.520278 \n",
       "L 111.749169 90.239722 \n",
       "L 49.969683 90.239722 \n",
       "z\n",
       "\" style=\"fill:#d9e6f5;stroke:#444443;stroke-linejoin:miter;stroke-width:0.5;\"/>\n",
       "   </g>\n",
       "   <g id=\"patch_10\">\n",
       "    <path clip-path=\"url(#pa7e84bb5c9)\" d=\"M 49.969683 91.411667 \n",
       "L 67.773349 91.411667 \n",
       "L 67.773349 103.131111 \n",
       "L 49.969683 103.131111 \n",
       "z\n",
       "\" style=\"fill:#d9e6f5;stroke:#444443;stroke-linejoin:miter;stroke-width:0.5;\"/>\n",
       "   </g>\n",
       "   <g id=\"patch_11\">\n",
       "    <path clip-path=\"url(#pa7e84bb5c9)\" d=\"M 49.969683 104.303056 \n",
       "L 67.437013 104.303056 \n",
       "L 67.437013 116.0225 \n",
       "L 49.969683 116.0225 \n",
       "z\n",
       "\" style=\"fill:#d9e6f5;stroke:#444443;stroke-linejoin:miter;stroke-width:0.5;\"/>\n",
       "   </g>\n",
       "   <g id=\"patch_12\">\n",
       "    <path clip-path=\"url(#pa7e84bb5c9)\" d=\"M 49.969683 117.194444 \n",
       "L 63.19033 117.194444 \n",
       "L 63.19033 128.913889 \n",
       "L 49.969683 128.913889 \n",
       "z\n",
       "\" style=\"fill:#d9e6f5;stroke:#444443;stroke-linejoin:miter;stroke-width:0.5;\"/>\n",
       "   </g>\n",
       "   <g id=\"patch_13\">\n",
       "    <path clip-path=\"url(#pa7e84bb5c9)\" d=\"M 49.969683 130.085833 \n",
       "L 56.867361 130.085833 \n",
       "L 56.867361 141.805278 \n",
       "L 49.969683 141.805278 \n",
       "z\n",
       "\" style=\"fill:#d9e6f5;stroke:#444443;stroke-linejoin:miter;stroke-width:0.5;\"/>\n",
       "   </g>\n",
       "   <g id=\"patch_14\">\n",
       "    <path clip-path=\"url(#pa7e84bb5c9)\" d=\"M 49.969683 142.977222 \n",
       "L 50.2094 142.977222 \n",
       "L 50.2094 154.696667 \n",
       "L 49.969683 154.696667 \n",
       "z\n",
       "\" style=\"fill:#d9e6f5;stroke:#444443;stroke-linejoin:miter;stroke-width:0.5;\"/>\n",
       "   </g>\n",
       "   <g id=\"patch_15\">\n",
       "    <path clip-path=\"url(#pa7e84bb5c9)\" d=\"M 49.969683 155.868611 \n",
       "L 49.948914 155.868611 \n",
       "L 49.948914 167.588056 \n",
       "L 49.969683 167.588056 \n",
       "z\n",
       "\" style=\"fill:#d9e6f5;stroke:#444443;stroke-linejoin:miter;stroke-width:0.5;\"/>\n",
       "   </g>\n",
       "   <g id=\"matplotlib.axis_1\">\n",
       "    <g id=\"xtick_1\">\n",
       "     <g id=\"line2d_1\">\n",
       "      <defs>\n",
       "       <path d=\"M 0 0 \n",
       "L 0 3.5 \n",
       "\" id=\"m1aee4129a6\" style=\"stroke:#000000;stroke-width:0.8;\"/>\n",
       "      </defs>\n",
       "      <g>\n",
       "       <use style=\"stroke:#000000;stroke-width:0.8;\" x=\"49.969683\" xlink:href=\"#m1aee4129a6\" y=\"168.76\"/>\n",
       "      </g>\n",
       "     </g>\n",
       "     <g id=\"text_1\">\n",
       "      <!-- 0.00 -->\n",
       "      <g style=\"fill:#444443;\" transform=\"translate(38.836871 183.358437)scale(0.1 -0.1)\">\n",
       "       <defs>\n",
       "        <path d=\"M 2034 4250 \n",
       "Q 1547 4250 1301 3770 \n",
       "Q 1056 3291 1056 2328 \n",
       "Q 1056 1369 1301 889 \n",
       "Q 1547 409 2034 409 \n",
       "Q 2525 409 2770 889 \n",
       "Q 3016 1369 3016 2328 \n",
       "Q 3016 3291 2770 3770 \n",
       "Q 2525 4250 2034 4250 \n",
       "z\n",
       "M 2034 4750 \n",
       "Q 2819 4750 3233 4129 \n",
       "Q 3647 3509 3647 2328 \n",
       "Q 3647 1150 3233 529 \n",
       "Q 2819 -91 2034 -91 \n",
       "Q 1250 -91 836 529 \n",
       "Q 422 1150 422 2328 \n",
       "Q 422 3509 836 4129 \n",
       "Q 1250 4750 2034 4750 \n",
       "z\n",
       "\" id=\"DejaVuSans-30\" transform=\"scale(0.015625)\"/>\n",
       "        <path d=\"M 684 794 \n",
       "L 1344 794 \n",
       "L 1344 0 \n",
       "L 684 0 \n",
       "L 684 794 \n",
       "z\n",
       "\" id=\"DejaVuSans-2e\" transform=\"scale(0.015625)\"/>\n",
       "       </defs>\n",
       "       <use xlink:href=\"#DejaVuSans-30\"/>\n",
       "       <use x=\"63.623047\" xlink:href=\"#DejaVuSans-2e\"/>\n",
       "       <use x=\"95.410156\" xlink:href=\"#DejaVuSans-30\"/>\n",
       "       <use x=\"159.033203\" xlink:href=\"#DejaVuSans-30\"/>\n",
       "      </g>\n",
       "     </g>\n",
       "    </g>\n",
       "    <g id=\"xtick_2\">\n",
       "     <g id=\"line2d_2\">\n",
       "      <g>\n",
       "       <use style=\"stroke:#000000;stroke-width:0.8;\" x=\"255.64375\" xlink:href=\"#m1aee4129a6\" y=\"168.76\"/>\n",
       "      </g>\n",
       "     </g>\n",
       "     <g id=\"text_2\">\n",
       "      <!-- 0.32 -->\n",
       "      <g style=\"fill:#444443;\" transform=\"translate(244.510938 183.358437)scale(0.1 -0.1)\">\n",
       "       <defs>\n",
       "        <path d=\"M 2597 2516 \n",
       "Q 3050 2419 3304 2112 \n",
       "Q 3559 1806 3559 1356 \n",
       "Q 3559 666 3084 287 \n",
       "Q 2609 -91 1734 -91 \n",
       "Q 1441 -91 1130 -33 \n",
       "Q 819 25 488 141 \n",
       "L 488 750 \n",
       "Q 750 597 1062 519 \n",
       "Q 1375 441 1716 441 \n",
       "Q 2309 441 2620 675 \n",
       "Q 2931 909 2931 1356 \n",
       "Q 2931 1769 2642 2001 \n",
       "Q 2353 2234 1838 2234 \n",
       "L 1294 2234 \n",
       "L 1294 2753 \n",
       "L 1863 2753 \n",
       "Q 2328 2753 2575 2939 \n",
       "Q 2822 3125 2822 3475 \n",
       "Q 2822 3834 2567 4026 \n",
       "Q 2313 4219 1838 4219 \n",
       "Q 1578 4219 1281 4162 \n",
       "Q 984 4106 628 3988 \n",
       "L 628 4550 \n",
       "Q 988 4650 1302 4700 \n",
       "Q 1616 4750 1894 4750 \n",
       "Q 2613 4750 3031 4423 \n",
       "Q 3450 4097 3450 3541 \n",
       "Q 3450 3153 3228 2886 \n",
       "Q 3006 2619 2597 2516 \n",
       "z\n",
       "\" id=\"DejaVuSans-33\" transform=\"scale(0.015625)\"/>\n",
       "        <path d=\"M 1228 531 \n",
       "L 3431 531 \n",
       "L 3431 0 \n",
       "L 469 0 \n",
       "L 469 531 \n",
       "Q 828 903 1448 1529 \n",
       "Q 2069 2156 2228 2338 \n",
       "Q 2531 2678 2651 2914 \n",
       "Q 2772 3150 2772 3378 \n",
       "Q 2772 3750 2511 3984 \n",
       "Q 2250 4219 1831 4219 \n",
       "Q 1534 4219 1204 4116 \n",
       "Q 875 4013 500 3803 \n",
       "L 500 4441 \n",
       "Q 881 4594 1212 4672 \n",
       "Q 1544 4750 1819 4750 \n",
       "Q 2544 4750 2975 4387 \n",
       "Q 3406 4025 3406 3419 \n",
       "Q 3406 3131 3298 2873 \n",
       "Q 3191 2616 2906 2266 \n",
       "Q 2828 2175 2409 1742 \n",
       "Q 1991 1309 1228 531 \n",
       "z\n",
       "\" id=\"DejaVuSans-32\" transform=\"scale(0.015625)\"/>\n",
       "       </defs>\n",
       "       <use xlink:href=\"#DejaVuSans-30\"/>\n",
       "       <use x=\"63.623047\" xlink:href=\"#DejaVuSans-2e\"/>\n",
       "       <use x=\"95.410156\" xlink:href=\"#DejaVuSans-33\"/>\n",
       "       <use x=\"159.033203\" xlink:href=\"#DejaVuSans-32\"/>\n",
       "      </g>\n",
       "     </g>\n",
       "    </g>\n",
       "   </g>\n",
       "   <g id=\"matplotlib.axis_2\">\n",
       "    <g id=\"ytick_1\">\n",
       "     <g id=\"line2d_3\">\n",
       "      <defs>\n",
       "       <path d=\"M 0 0 \n",
       "L -3.5 0 \n",
       "\" id=\"me127a3d310\" style=\"stroke:#000000;stroke-width:0.8;\"/>\n",
       "      </defs>\n",
       "      <g>\n",
       "       <use style=\"stroke:#000000;stroke-width:0.8;\" x=\"48.68125\" xlink:href=\"#me127a3d310\" y=\"7.031667\"/>\n",
       "      </g>\n",
       "     </g>\n",
       "     <g id=\"text_3\">\n",
       "      <!-- LSTAT -->\n",
       "      <g style=\"fill:#444443;\" transform=\"translate(12.254688 10.830885)scale(0.1 -0.1)\">\n",
       "       <defs>\n",
       "        <path d=\"M 628 4666 \n",
       "L 1259 4666 \n",
       "L 1259 531 \n",
       "L 3531 531 \n",
       "L 3531 0 \n",
       "L 628 0 \n",
       "L 628 4666 \n",
       "z\n",
       "\" id=\"DejaVuSans-4c\" transform=\"scale(0.015625)\"/>\n",
       "        <path d=\"M 3425 4513 \n",
       "L 3425 3897 \n",
       "Q 3066 4069 2747 4153 \n",
       "Q 2428 4238 2131 4238 \n",
       "Q 1616 4238 1336 4038 \n",
       "Q 1056 3838 1056 3469 \n",
       "Q 1056 3159 1242 3001 \n",
       "Q 1428 2844 1947 2747 \n",
       "L 2328 2669 \n",
       "Q 3034 2534 3370 2195 \n",
       "Q 3706 1856 3706 1288 \n",
       "Q 3706 609 3251 259 \n",
       "Q 2797 -91 1919 -91 \n",
       "Q 1588 -91 1214 -16 \n",
       "Q 841 59 441 206 \n",
       "L 441 856 \n",
       "Q 825 641 1194 531 \n",
       "Q 1563 422 1919 422 \n",
       "Q 2459 422 2753 634 \n",
       "Q 3047 847 3047 1241 \n",
       "Q 3047 1584 2836 1778 \n",
       "Q 2625 1972 2144 2069 \n",
       "L 1759 2144 \n",
       "Q 1053 2284 737 2584 \n",
       "Q 422 2884 422 3419 \n",
       "Q 422 4038 858 4394 \n",
       "Q 1294 4750 2059 4750 \n",
       "Q 2388 4750 2728 4690 \n",
       "Q 3069 4631 3425 4513 \n",
       "z\n",
       "\" id=\"DejaVuSans-53\" transform=\"scale(0.015625)\"/>\n",
       "        <path d=\"M -19 4666 \n",
       "L 3928 4666 \n",
       "L 3928 4134 \n",
       "L 2272 4134 \n",
       "L 2272 0 \n",
       "L 1638 0 \n",
       "L 1638 4134 \n",
       "L -19 4134 \n",
       "L -19 4666 \n",
       "z\n",
       "\" id=\"DejaVuSans-54\" transform=\"scale(0.015625)\"/>\n",
       "        <path d=\"M 2188 4044 \n",
       "L 1331 1722 \n",
       "L 3047 1722 \n",
       "L 2188 4044 \n",
       "z\n",
       "M 1831 4666 \n",
       "L 2547 4666 \n",
       "L 4325 0 \n",
       "L 3669 0 \n",
       "L 3244 1197 \n",
       "L 1141 1197 \n",
       "L 716 0 \n",
       "L 50 0 \n",
       "L 1831 4666 \n",
       "z\n",
       "\" id=\"DejaVuSans-41\" transform=\"scale(0.015625)\"/>\n",
       "       </defs>\n",
       "       <use xlink:href=\"#DejaVuSans-4c\"/>\n",
       "       <use x=\"55.712891\" xlink:href=\"#DejaVuSans-53\"/>\n",
       "       <use x=\"119.189453\" xlink:href=\"#DejaVuSans-54\"/>\n",
       "       <use x=\"172.523438\" xlink:href=\"#DejaVuSans-41\"/>\n",
       "       <use x=\"233.181641\" xlink:href=\"#DejaVuSans-54\"/>\n",
       "      </g>\n",
       "     </g>\n",
       "    </g>\n",
       "    <g id=\"ytick_2\">\n",
       "     <g id=\"line2d_4\">\n",
       "      <g>\n",
       "       <use style=\"stroke:#000000;stroke-width:0.8;\" x=\"48.68125\" xlink:href=\"#me127a3d310\" y=\"19.923056\"/>\n",
       "      </g>\n",
       "     </g>\n",
       "     <g id=\"text_4\">\n",
       "      <!-- DIS -->\n",
       "      <g style=\"fill:#444443;\" transform=\"translate(24.682813 23.722274)scale(0.1 -0.1)\">\n",
       "       <defs>\n",
       "        <path d=\"M 1259 4147 \n",
       "L 1259 519 \n",
       "L 2022 519 \n",
       "Q 2988 519 3436 956 \n",
       "Q 3884 1394 3884 2338 \n",
       "Q 3884 3275 3436 3711 \n",
       "Q 2988 4147 2022 4147 \n",
       "L 1259 4147 \n",
       "z\n",
       "M 628 4666 \n",
       "L 1925 4666 \n",
       "Q 3281 4666 3915 4102 \n",
       "Q 4550 3538 4550 2338 \n",
       "Q 4550 1131 3912 565 \n",
       "Q 3275 0 1925 0 \n",
       "L 628 0 \n",
       "L 628 4666 \n",
       "z\n",
       "\" id=\"DejaVuSans-44\" transform=\"scale(0.015625)\"/>\n",
       "        <path d=\"M 628 4666 \n",
       "L 1259 4666 \n",
       "L 1259 0 \n",
       "L 628 0 \n",
       "L 628 4666 \n",
       "z\n",
       "\" id=\"DejaVuSans-49\" transform=\"scale(0.015625)\"/>\n",
       "       </defs>\n",
       "       <use xlink:href=\"#DejaVuSans-44\"/>\n",
       "       <use x=\"77.001953\" xlink:href=\"#DejaVuSans-49\"/>\n",
       "       <use x=\"106.494141\" xlink:href=\"#DejaVuSans-53\"/>\n",
       "      </g>\n",
       "     </g>\n",
       "    </g>\n",
       "    <g id=\"ytick_3\">\n",
       "     <g id=\"line2d_5\">\n",
       "      <g>\n",
       "       <use style=\"stroke:#000000;stroke-width:0.8;\" x=\"48.68125\" xlink:href=\"#me127a3d310\" y=\"32.814444\"/>\n",
       "      </g>\n",
       "     </g>\n",
       "     <g id=\"text_5\">\n",
       "      <!-- RM -->\n",
       "      <g style=\"fill:#444443;\" transform=\"translate(26.104688 36.613663)scale(0.1 -0.1)\">\n",
       "       <defs>\n",
       "        <path d=\"M 2841 2188 \n",
       "Q 3044 2119 3236 1894 \n",
       "Q 3428 1669 3622 1275 \n",
       "L 4263 0 \n",
       "L 3584 0 \n",
       "L 2988 1197 \n",
       "Q 2756 1666 2539 1819 \n",
       "Q 2322 1972 1947 1972 \n",
       "L 1259 1972 \n",
       "L 1259 0 \n",
       "L 628 0 \n",
       "L 628 4666 \n",
       "L 2053 4666 \n",
       "Q 2853 4666 3247 4331 \n",
       "Q 3641 3997 3641 3322 \n",
       "Q 3641 2881 3436 2590 \n",
       "Q 3231 2300 2841 2188 \n",
       "z\n",
       "M 1259 4147 \n",
       "L 1259 2491 \n",
       "L 2053 2491 \n",
       "Q 2509 2491 2742 2702 \n",
       "Q 2975 2913 2975 3322 \n",
       "Q 2975 3731 2742 3939 \n",
       "Q 2509 4147 2053 4147 \n",
       "L 1259 4147 \n",
       "z\n",
       "\" id=\"DejaVuSans-52\" transform=\"scale(0.015625)\"/>\n",
       "        <path d=\"M 628 4666 \n",
       "L 1569 4666 \n",
       "L 2759 1491 \n",
       "L 3956 4666 \n",
       "L 4897 4666 \n",
       "L 4897 0 \n",
       "L 4281 0 \n",
       "L 4281 4097 \n",
       "L 3078 897 \n",
       "L 2444 897 \n",
       "L 1241 4097 \n",
       "L 1241 0 \n",
       "L 628 0 \n",
       "L 628 4666 \n",
       "z\n",
       "\" id=\"DejaVuSans-4d\" transform=\"scale(0.015625)\"/>\n",
       "       </defs>\n",
       "       <use xlink:href=\"#DejaVuSans-52\"/>\n",
       "       <use x=\"69.482422\" xlink:href=\"#DejaVuSans-4d\"/>\n",
       "      </g>\n",
       "     </g>\n",
       "    </g>\n",
       "    <g id=\"ytick_4\">\n",
       "     <g id=\"line2d_6\">\n",
       "      <g>\n",
       "       <use style=\"stroke:#000000;stroke-width:0.8;\" x=\"48.68125\" xlink:href=\"#me127a3d310\" y=\"45.705833\"/>\n",
       "      </g>\n",
       "     </g>\n",
       "     <g id=\"text_6\">\n",
       "      <!-- RAD -->\n",
       "      <g style=\"fill:#444443;\" transform=\"translate(20.592188 49.505052)scale(0.1 -0.1)\">\n",
       "       <use xlink:href=\"#DejaVuSans-52\"/>\n",
       "       <use x=\"65.482422\" xlink:href=\"#DejaVuSans-41\"/>\n",
       "       <use x=\"133.890625\" xlink:href=\"#DejaVuSans-44\"/>\n",
       "      </g>\n",
       "     </g>\n",
       "    </g>\n",
       "    <g id=\"ytick_5\">\n",
       "     <g id=\"line2d_7\">\n",
       "      <g>\n",
       "       <use style=\"stroke:#000000;stroke-width:0.8;\" x=\"48.68125\" xlink:href=\"#me127a3d310\" y=\"58.597222\"/>\n",
       "      </g>\n",
       "     </g>\n",
       "     <g id=\"text_7\">\n",
       "      <!-- TAX -->\n",
       "      <g style=\"fill:#444443;\" transform=\"translate(22.657813 62.396441)scale(0.1 -0.1)\">\n",
       "       <defs>\n",
       "        <path d=\"M 403 4666 \n",
       "L 1081 4666 \n",
       "L 2241 2931 \n",
       "L 3406 4666 \n",
       "L 4084 4666 \n",
       "L 2584 2425 \n",
       "L 4184 0 \n",
       "L 3506 0 \n",
       "L 2194 1984 \n",
       "L 872 0 \n",
       "L 191 0 \n",
       "L 1856 2491 \n",
       "L 403 4666 \n",
       "z\n",
       "\" id=\"DejaVuSans-58\" transform=\"scale(0.015625)\"/>\n",
       "       </defs>\n",
       "       <use xlink:href=\"#DejaVuSans-54\"/>\n",
       "       <use x=\"53.333984\" xlink:href=\"#DejaVuSans-41\"/>\n",
       "       <use x=\"121.742188\" xlink:href=\"#DejaVuSans-58\"/>\n",
       "      </g>\n",
       "     </g>\n",
       "    </g>\n",
       "    <g id=\"ytick_6\">\n",
       "     <g id=\"line2d_8\">\n",
       "      <g>\n",
       "       <use style=\"stroke:#000000;stroke-width:0.8;\" x=\"48.68125\" xlink:href=\"#me127a3d310\" y=\"71.488611\"/>\n",
       "      </g>\n",
       "     </g>\n",
       "     <g id=\"text_8\">\n",
       "      <!-- PTRATIO -->\n",
       "      <g style=\"fill:#444443;\" transform=\"translate(0 75.28783)scale(0.1 -0.1)\">\n",
       "       <defs>\n",
       "        <path d=\"M 1259 4147 \n",
       "L 1259 2394 \n",
       "L 2053 2394 \n",
       "Q 2494 2394 2734 2622 \n",
       "Q 2975 2850 2975 3272 \n",
       "Q 2975 3691 2734 3919 \n",
       "Q 2494 4147 2053 4147 \n",
       "L 1259 4147 \n",
       "z\n",
       "M 628 4666 \n",
       "L 2053 4666 \n",
       "Q 2838 4666 3239 4311 \n",
       "Q 3641 3956 3641 3272 \n",
       "Q 3641 2581 3239 2228 \n",
       "Q 2838 1875 2053 1875 \n",
       "L 1259 1875 \n",
       "L 1259 0 \n",
       "L 628 0 \n",
       "L 628 4666 \n",
       "z\n",
       "\" id=\"DejaVuSans-50\" transform=\"scale(0.015625)\"/>\n",
       "        <path d=\"M 2522 4238 \n",
       "Q 1834 4238 1429 3725 \n",
       "Q 1025 3213 1025 2328 \n",
       "Q 1025 1447 1429 934 \n",
       "Q 1834 422 2522 422 \n",
       "Q 3209 422 3611 934 \n",
       "Q 4013 1447 4013 2328 \n",
       "Q 4013 3213 3611 3725 \n",
       "Q 3209 4238 2522 4238 \n",
       "z\n",
       "M 2522 4750 \n",
       "Q 3503 4750 4090 4092 \n",
       "Q 4678 3434 4678 2328 \n",
       "Q 4678 1225 4090 567 \n",
       "Q 3503 -91 2522 -91 \n",
       "Q 1538 -91 948 565 \n",
       "Q 359 1222 359 2328 \n",
       "Q 359 3434 948 4092 \n",
       "Q 1538 4750 2522 4750 \n",
       "z\n",
       "\" id=\"DejaVuSans-4f\" transform=\"scale(0.015625)\"/>\n",
       "       </defs>\n",
       "       <use xlink:href=\"#DejaVuSans-50\"/>\n",
       "       <use x=\"60.302734\" xlink:href=\"#DejaVuSans-54\"/>\n",
       "       <use x=\"121.386719\" xlink:href=\"#DejaVuSans-52\"/>\n",
       "       <use x=\"186.869141\" xlink:href=\"#DejaVuSans-41\"/>\n",
       "       <use x=\"247.527344\" xlink:href=\"#DejaVuSans-54\"/>\n",
       "       <use x=\"308.611328\" xlink:href=\"#DejaVuSans-49\"/>\n",
       "       <use x=\"338.103516\" xlink:href=\"#DejaVuSans-4f\"/>\n",
       "      </g>\n",
       "     </g>\n",
       "    </g>\n",
       "    <g id=\"ytick_7\">\n",
       "     <g id=\"line2d_9\">\n",
       "      <g>\n",
       "       <use style=\"stroke:#000000;stroke-width:0.8;\" x=\"48.68125\" xlink:href=\"#me127a3d310\" y=\"84.38\"/>\n",
       "      </g>\n",
       "     </g>\n",
       "     <g id=\"text_9\">\n",
       "      <!-- NOX -->\n",
       "      <g style=\"fill:#444443;\" transform=\"translate(20.115625 88.179219)scale(0.1 -0.1)\">\n",
       "       <defs>\n",
       "        <path d=\"M 628 4666 \n",
       "L 1478 4666 \n",
       "L 3547 763 \n",
       "L 3547 4666 \n",
       "L 4159 4666 \n",
       "L 4159 0 \n",
       "L 3309 0 \n",
       "L 1241 3903 \n",
       "L 1241 0 \n",
       "L 628 0 \n",
       "L 628 4666 \n",
       "z\n",
       "\" id=\"DejaVuSans-4e\" transform=\"scale(0.015625)\"/>\n",
       "       </defs>\n",
       "       <use xlink:href=\"#DejaVuSans-4e\"/>\n",
       "       <use x=\"74.804688\" xlink:href=\"#DejaVuSans-4f\"/>\n",
       "       <use x=\"147.140625\" xlink:href=\"#DejaVuSans-58\"/>\n",
       "      </g>\n",
       "     </g>\n",
       "    </g>\n",
       "    <g id=\"ytick_8\">\n",
       "     <g id=\"line2d_10\">\n",
       "      <g>\n",
       "       <use style=\"stroke:#000000;stroke-width:0.8;\" x=\"48.68125\" xlink:href=\"#me127a3d310\" y=\"97.271389\"/>\n",
       "      </g>\n",
       "     </g>\n",
       "     <g id=\"text_10\">\n",
       "      <!-- ZN -->\n",
       "      <g style=\"fill:#444443;\" transform=\"translate(27.35 101.070608)scale(0.1 -0.1)\">\n",
       "       <defs>\n",
       "        <path d=\"M 359 4666 \n",
       "L 4025 4666 \n",
       "L 4025 4184 \n",
       "L 1075 531 \n",
       "L 4097 531 \n",
       "L 4097 0 \n",
       "L 288 0 \n",
       "L 288 481 \n",
       "L 3238 4134 \n",
       "L 359 4134 \n",
       "L 359 4666 \n",
       "z\n",
       "\" id=\"DejaVuSans-5a\" transform=\"scale(0.015625)\"/>\n",
       "       </defs>\n",
       "       <use xlink:href=\"#DejaVuSans-5a\"/>\n",
       "       <use x=\"68.505859\" xlink:href=\"#DejaVuSans-4e\"/>\n",
       "      </g>\n",
       "     </g>\n",
       "    </g>\n",
       "    <g id=\"ytick_9\">\n",
       "     <g id=\"line2d_11\">\n",
       "      <g>\n",
       "       <use style=\"stroke:#000000;stroke-width:0.8;\" x=\"48.68125\" xlink:href=\"#me127a3d310\" y=\"110.162778\"/>\n",
       "      </g>\n",
       "     </g>\n",
       "     <g id=\"text_11\">\n",
       "      <!-- CRIM -->\n",
       "      <g style=\"fill:#444443;\" transform=\"translate(16.171875 113.961997)scale(0.1 -0.1)\">\n",
       "       <defs>\n",
       "        <path d=\"M 4122 4306 \n",
       "L 4122 3641 \n",
       "Q 3803 3938 3442 4084 \n",
       "Q 3081 4231 2675 4231 \n",
       "Q 1875 4231 1450 3742 \n",
       "Q 1025 3253 1025 2328 \n",
       "Q 1025 1406 1450 917 \n",
       "Q 1875 428 2675 428 \n",
       "Q 3081 428 3442 575 \n",
       "Q 3803 722 4122 1019 \n",
       "L 4122 359 \n",
       "Q 3791 134 3420 21 \n",
       "Q 3050 -91 2638 -91 \n",
       "Q 1578 -91 968 557 \n",
       "Q 359 1206 359 2328 \n",
       "Q 359 3453 968 4101 \n",
       "Q 1578 4750 2638 4750 \n",
       "Q 3056 4750 3426 4639 \n",
       "Q 3797 4528 4122 4306 \n",
       "z\n",
       "\" id=\"DejaVuSans-43\" transform=\"scale(0.015625)\"/>\n",
       "       </defs>\n",
       "       <use xlink:href=\"#DejaVuSans-43\"/>\n",
       "       <use x=\"69.824219\" xlink:href=\"#DejaVuSans-52\"/>\n",
       "       <use x=\"139.306641\" xlink:href=\"#DejaVuSans-49\"/>\n",
       "       <use x=\"168.798828\" xlink:href=\"#DejaVuSans-4d\"/>\n",
       "      </g>\n",
       "     </g>\n",
       "    </g>\n",
       "    <g id=\"ytick_10\">\n",
       "     <g id=\"line2d_12\">\n",
       "      <g>\n",
       "       <use style=\"stroke:#000000;stroke-width:0.8;\" x=\"48.68125\" xlink:href=\"#me127a3d310\" y=\"123.054167\"/>\n",
       "      </g>\n",
       "     </g>\n",
       "     <g id=\"text_12\">\n",
       "      <!-- B -->\n",
       "      <g style=\"fill:#444443;\" transform=\"translate(34.820313 126.853385)scale(0.1 -0.1)\">\n",
       "       <defs>\n",
       "        <path d=\"M 1259 2228 \n",
       "L 1259 519 \n",
       "L 2272 519 \n",
       "Q 2781 519 3026 730 \n",
       "Q 3272 941 3272 1375 \n",
       "Q 3272 1813 3026 2020 \n",
       "Q 2781 2228 2272 2228 \n",
       "L 1259 2228 \n",
       "z\n",
       "M 1259 4147 \n",
       "L 1259 2741 \n",
       "L 2194 2741 \n",
       "Q 2656 2741 2882 2914 \n",
       "Q 3109 3088 3109 3444 \n",
       "Q 3109 3797 2882 3972 \n",
       "Q 2656 4147 2194 4147 \n",
       "L 1259 4147 \n",
       "z\n",
       "M 628 4666 \n",
       "L 2241 4666 \n",
       "Q 2963 4666 3353 4366 \n",
       "Q 3744 4066 3744 3513 \n",
       "Q 3744 3084 3544 2831 \n",
       "Q 3344 2578 2956 2516 \n",
       "Q 3422 2416 3680 2098 \n",
       "Q 3938 1781 3938 1306 \n",
       "Q 3938 681 3513 340 \n",
       "Q 3088 0 2303 0 \n",
       "L 628 0 \n",
       "L 628 4666 \n",
       "z\n",
       "\" id=\"DejaVuSans-42\" transform=\"scale(0.015625)\"/>\n",
       "       </defs>\n",
       "       <use xlink:href=\"#DejaVuSans-42\"/>\n",
       "      </g>\n",
       "     </g>\n",
       "    </g>\n",
       "    <g id=\"ytick_11\">\n",
       "     <g id=\"line2d_13\">\n",
       "      <g>\n",
       "       <use style=\"stroke:#000000;stroke-width:0.8;\" x=\"48.68125\" xlink:href=\"#me127a3d310\" y=\"135.945556\"/>\n",
       "      </g>\n",
       "     </g>\n",
       "     <g id=\"text_13\">\n",
       "      <!-- CHAS -->\n",
       "      <g style=\"fill:#444443;\" transform=\"translate(13.989063 139.744774)scale(0.1 -0.1)\">\n",
       "       <defs>\n",
       "        <path d=\"M 628 4666 \n",
       "L 1259 4666 \n",
       "L 1259 2753 \n",
       "L 3553 2753 \n",
       "L 3553 4666 \n",
       "L 4184 4666 \n",
       "L 4184 0 \n",
       "L 3553 0 \n",
       "L 3553 2222 \n",
       "L 1259 2222 \n",
       "L 1259 0 \n",
       "L 628 0 \n",
       "L 628 4666 \n",
       "z\n",
       "\" id=\"DejaVuSans-48\" transform=\"scale(0.015625)\"/>\n",
       "       </defs>\n",
       "       <use xlink:href=\"#DejaVuSans-43\"/>\n",
       "       <use x=\"69.824219\" xlink:href=\"#DejaVuSans-48\"/>\n",
       "       <use x=\"145.019531\" xlink:href=\"#DejaVuSans-41\"/>\n",
       "       <use x=\"213.427734\" xlink:href=\"#DejaVuSans-53\"/>\n",
       "      </g>\n",
       "     </g>\n",
       "    </g>\n",
       "    <g id=\"ytick_12\">\n",
       "     <g id=\"line2d_14\">\n",
       "      <g>\n",
       "       <use style=\"stroke:#000000;stroke-width:0.8;\" x=\"48.68125\" xlink:href=\"#me127a3d310\" y=\"148.836944\"/>\n",
       "      </g>\n",
       "     </g>\n",
       "     <g id=\"text_14\">\n",
       "      <!-- INDUS -->\n",
       "      <g style=\"fill:#444443;\" transform=\"translate(9.882813 152.636163)scale(0.1 -0.1)\">\n",
       "       <defs>\n",
       "        <path d=\"M 556 4666 \n",
       "L 1191 4666 \n",
       "L 1191 1831 \n",
       "Q 1191 1081 1462 751 \n",
       "Q 1734 422 2344 422 \n",
       "Q 2950 422 3222 751 \n",
       "Q 3494 1081 3494 1831 \n",
       "L 3494 4666 \n",
       "L 4128 4666 \n",
       "L 4128 1753 \n",
       "Q 4128 841 3676 375 \n",
       "Q 3225 -91 2344 -91 \n",
       "Q 1459 -91 1007 375 \n",
       "Q 556 841 556 1753 \n",
       "L 556 4666 \n",
       "z\n",
       "\" id=\"DejaVuSans-55\" transform=\"scale(0.015625)\"/>\n",
       "       </defs>\n",
       "       <use xlink:href=\"#DejaVuSans-49\"/>\n",
       "       <use x=\"29.492188\" xlink:href=\"#DejaVuSans-4e\"/>\n",
       "       <use x=\"104.296875\" xlink:href=\"#DejaVuSans-44\"/>\n",
       "       <use x=\"181.298828\" xlink:href=\"#DejaVuSans-55\"/>\n",
       "       <use x=\"254.492188\" xlink:href=\"#DejaVuSans-53\"/>\n",
       "      </g>\n",
       "     </g>\n",
       "    </g>\n",
       "    <g id=\"ytick_13\">\n",
       "     <g id=\"line2d_15\">\n",
       "      <g>\n",
       "       <use style=\"stroke:#000000;stroke-width:0.8;\" x=\"48.68125\" xlink:href=\"#me127a3d310\" y=\"161.728333\"/>\n",
       "      </g>\n",
       "     </g>\n",
       "     <g id=\"text_15\">\n",
       "      <!-- AGE -->\n",
       "      <g style=\"fill:#444443;\" transform=\"translate(20.948438 165.527552)scale(0.1 -0.1)\">\n",
       "       <defs>\n",
       "        <path d=\"M 3809 666 \n",
       "L 3809 1919 \n",
       "L 2778 1919 \n",
       "L 2778 2438 \n",
       "L 4434 2438 \n",
       "L 4434 434 \n",
       "Q 4069 175 3628 42 \n",
       "Q 3188 -91 2688 -91 \n",
       "Q 1594 -91 976 548 \n",
       "Q 359 1188 359 2328 \n",
       "Q 359 3472 976 4111 \n",
       "Q 1594 4750 2688 4750 \n",
       "Q 3144 4750 3555 4637 \n",
       "Q 3966 4525 4313 4306 \n",
       "L 4313 3634 \n",
       "Q 3963 3931 3569 4081 \n",
       "Q 3175 4231 2741 4231 \n",
       "Q 1884 4231 1454 3753 \n",
       "Q 1025 3275 1025 2328 \n",
       "Q 1025 1384 1454 906 \n",
       "Q 1884 428 2741 428 \n",
       "Q 3075 428 3337 486 \n",
       "Q 3600 544 3809 666 \n",
       "z\n",
       "\" id=\"DejaVuSans-47\" transform=\"scale(0.015625)\"/>\n",
       "        <path d=\"M 628 4666 \n",
       "L 3578 4666 \n",
       "L 3578 4134 \n",
       "L 1259 4134 \n",
       "L 1259 2753 \n",
       "L 3481 2753 \n",
       "L 3481 2222 \n",
       "L 1259 2222 \n",
       "L 1259 531 \n",
       "L 3634 531 \n",
       "L 3634 0 \n",
       "L 628 0 \n",
       "L 628 4666 \n",
       "z\n",
       "\" id=\"DejaVuSans-45\" transform=\"scale(0.015625)\"/>\n",
       "       </defs>\n",
       "       <use xlink:href=\"#DejaVuSans-41\"/>\n",
       "       <use x=\"66.658203\" xlink:href=\"#DejaVuSans-47\"/>\n",
       "       <use x=\"144.148438\" xlink:href=\"#DejaVuSans-45\"/>\n",
       "      </g>\n",
       "     </g>\n",
       "    </g>\n",
       "   </g>\n",
       "   <g id=\"patch_16\">\n",
       "    <path d=\"M 48.68125 168.76 \n",
       "L 48.68125 -0 \n",
       "\" style=\"fill:none;stroke:#000000;stroke-linecap:square;stroke-linejoin:miter;stroke-width:0.3;\"/>\n",
       "   </g>\n",
       "   <g id=\"patch_17\">\n",
       "    <path d=\"M 255.64375 168.76 \n",
       "L 255.64375 -0 \n",
       "\" style=\"fill:none;stroke:#000000;stroke-linecap:square;stroke-linejoin:miter;stroke-width:0.3;\"/>\n",
       "   </g>\n",
       "   <g id=\"patch_18\">\n",
       "    <path d=\"M 48.68125 168.76 \n",
       "L 255.64375 168.76 \n",
       "\" style=\"fill:none;stroke:#000000;stroke-linecap:square;stroke-linejoin:miter;stroke-width:0.3;\"/>\n",
       "   </g>\n",
       "   <g id=\"patch_19\">\n",
       "    <path d=\"M 48.68125 -0 \n",
       "L 255.64375 -0 \n",
       "\" style=\"fill:none;stroke:#000000;stroke-linecap:square;stroke-linejoin:miter;stroke-width:0.3;\"/>\n",
       "   </g>\n",
       "  </g>\n",
       " </g>\n",
       " <defs>\n",
       "  <clipPath id=\"pa7e84bb5c9\">\n",
       "   <rect height=\"168.76\" width=\"206.9625\" x=\"48.68125\" y=\"-0\"/>\n",
       "  </clipPath>\n",
       " </defs>\n",
       "</svg>\n"
      ],
      "text/plain": [
       "<rfpimp.PimpViz at 0x7fdd44870c40>"
      ]
     },
     "execution_count": 39,
     "metadata": {},
     "output_type": "execute_result"
    }
   ],
   "source": [
    "from rfpimp import *\n",
    "\n",
    "I = importances(lm, X, y)\n",
    "plot_importances(I)"
   ]
  },
  {
   "cell_type": "markdown",
   "metadata": {},
   "source": [
    "**4. LSTAT is most important variable so train a new model with just `X['LSTAT']`**\n",
    "\n",
    "Print out the true $\\beta_0, \\beta_1$ coefficients."
   ]
  },
  {
   "cell_type": "code",
   "execution_count": 40,
   "metadata": {},
   "outputs": [
    {
     "name": "stdout",
     "output_type": "stream",
     "text": [
      "True OLS coefficients: [34.55384088 -0.95004935]\n"
     ]
    }
   ],
   "source": [
    "X_ = X['LSTAT'].values.reshape(-1,1) # Extract just one x variable\n",
    "\n",
    "lm = LinearRegression()\n",
    "lm.fit(X_, y)\n",
    "print(f\"True OLS coefficients: {np.array([lm.intercept_]+list(lm.coef_))}\")"
   ]
  },
  {
   "cell_type": "markdown",
   "metadata": {},
   "source": [
    "**5. Show marginal plot of LSTAT vs price**"
   ]
  },
  {
   "cell_type": "code",
   "execution_count": 41,
   "metadata": {},
   "outputs": [
    {
     "data": {
      "image/png": "[encoded data removed]",
      "text/plain": [
       "<Figure size 360x144 with 1 Axes>"
      ]
     },
     "metadata": {
      "image/png": {
       "height": 153,
       "width": 326
      },
      "needs_background": "light"
     },
     "output_type": "display_data"
    }
   ],
   "source": [
    "fig, ax1 = plt.subplots(figsize=(5,2.0))\n",
    "ax1.scatter(X_, y, s=15, alpha=.5)\n",
    "lx = np.linspace(np.min(X_), np.max(X_), num=len(X))\n",
    "ax1.plot(lx, lm.predict(lx.reshape(-1,1)), c='orange')\n",
    "ax1.set_xlabel(\"LSTAT\", fontsize=10)\n",
    "ax1.set_ylabel(\"price\", fontsize=10)\n",
    "plt.show()"
   ]
  },
  {
   "cell_type": "markdown",
   "metadata": {},
   "source": [
    "**6. Define an MSE loss function for single variable regression**\n",
    "\n",
    "$$\n",
    "\\frac{1}{n} \\sum_{i=1}^n (y - (\\beta_0 + \\beta_1 x^{(i)}))^2\n",
    "$$"
   ]
  },
  {
   "cell_type": "code",
   "execution_count": null,
   "metadata": {},
   "outputs": [],
   "source": [
    "def loss(B,X,y): # B=[beta0, beta1]\n",
    "    y_pred = ...\n",
    "    return np.mean(...)"
   ]
  },
  {
   "cell_type": "markdown",
   "metadata": {},
   "source": [
    "<details>\n",
    "<summary>Solution</summary>\n",
    "<pre>\n",
    "def loss(B,X,y):\n",
    "    y_pred = B[0] + X*B[1]\n",
    "    return np.mean((y - y_pred)**2)\n",
    "</pre>\n",
    "</details>"
   ]
  },
  {
   "cell_type": "markdown",
   "metadata": {},
   "source": [
    "**7. Check the loss function value at the true OLS coordinates**"
   ]
  },
  {
   "cell_type": "code",
   "execution_count": null,
   "metadata": {},
   "outputs": [],
   "source": [
    "loss(np.array([34.55384088, -0.95004935]), X_, y) # demo loss function at minimum"
   ]
  },
  {
   "cell_type": "markdown",
   "metadata": {},
   "source": [
    "**8. Plot the loss function in 3D in region around $\\beta$s**\n",
    "\n",
    "When you enter the correct loss function above, the plot should look something like:\n",
    "\n",
    "<img src=\"boston-loss.png\" width=\"200\">\n",
    "\n"
   ]
  },
  {
   "cell_type": "code",
   "execution_count": null,
   "metadata": {},
   "outputs": [],
   "source": [
    "b0_range = np.linspace(-50, 120, 70)\n",
    "b1_range = np.linspace(-6, 4, 70)\n",
    "\n",
    "plot3d(X_, y, b0_range, b1_range)\n",
    "#plt.tight_layout(); plt.savefig(\"boston-loss.png\",dpi=150,bbox_inches=0)"
   ]
  },
  {
   "cell_type": "markdown",
   "metadata": {},
   "source": [
    "### Repeat  using normalized data"
   ]
  },
  {
   "cell_type": "markdown",
   "metadata": {},
   "source": [
    "**1. Normalize the $x$ variables**"
   ]
  },
  {
   "cell_type": "code",
   "execution_count": null,
   "metadata": {},
   "outputs": [],
   "source": [
    "X_norm = normalize(X)"
   ]
  },
  {
   "cell_type": "markdown",
   "metadata": {},
   "source": [
    "**2. Retrain the model**"
   ]
  },
  {
   "cell_type": "code",
   "execution_count": null,
   "metadata": {},
   "outputs": [],
   "source": [
    "X_ = X_norm['LSTAT'].values.reshape(-1,1)\n",
    "\n",
    "lm = LinearRegression()\n",
    "lm.fit(X_, y)\n",
    "print(f\"True OLS coefficients: {np.array([lm.intercept_]+list(lm.coef_))}\")"
   ]
  },
  {
   "cell_type": "markdown",
   "metadata": {},
   "source": [
    "**3. Show the marginal plot again**\n",
    "\n",
    "Notice how only the $x$ scale has changed but not $y$, nor has the shape changed."
   ]
  },
  {
   "cell_type": "code",
   "execution_count": null,
   "metadata": {},
   "outputs": [],
   "source": [
    "fig, ax1 = plt.subplots(figsize=(5,2.0))\n",
    "ax1.scatter(X_, y, s=15, alpha=.5)\n",
    "lx = np.linspace(np.min(X_), np.max(X_), num=len(X))\n",
    "ax1.plot(lx, lm.predict(lx.reshape(-1,1)), c='orange')\n",
    "ax1.set_xlabel(\"LSTAT\", fontsize=10)\n",
    "ax1.set_ylabel(\"price\", fontsize=10)\n",
    "plt.show()"
   ]
  },
  {
   "cell_type": "markdown",
   "metadata": {},
   "source": [
    "**4. Plot the cost surface with a region around the new minimum location**"
   ]
  },
  {
   "cell_type": "code",
   "execution_count": null,
   "metadata": {},
   "outputs": [],
   "source": [
    "b0_range = np.linspace(15, 30, 70)\n",
    "b1_range = np.linspace(-10, 5, 70)\n",
    "\n",
    "plot3d(X_, y, b0_range, b1_range)"
   ]
  },
  {
   "cell_type": "markdown",
   "metadata": {},
   "source": [
    "**Q.** Compare the loss function contour lines of the unnormalized and normalized variables."
   ]
  },
  {
   "cell_type": "markdown",
   "metadata": {},
   "source": []
  },
  {
   "cell_type": "markdown",
   "metadata": {},
   "source": [
    "<details>\n",
    "<summary>Solution</summary>\n",
    "The normalized variables clearly result in a bowl shaped loss function, which gives spherical contours.  A gradient descent method with a single learning rate will convergent much faster given visible shape.\n",
    "</details>"
   ]
  },
  {
   "cell_type": "markdown",
   "metadata": {},
   "source": [
    "**Q.** Look at the loss function directly from above; in which direction do the gradients point?"
   ]
  },
  {
   "cell_type": "markdown",
   "metadata": {},
   "source": []
  },
  {
   "cell_type": "markdown",
   "metadata": {},
   "source": [
    "<details>\n",
    "<summary>Solution</summary>\n",
    "The negative of the gradients will point directly at the minimum loss function value location. The gradients themselves, however, point in the exact opposite direction.</details>"
   ]
  }
 ],
 "metadata": {
  "kernelspec": {
   "display_name": "Python 3 (ipykernel)",
   "language": "python",
   "name": "python3"
  },
  "language_info": {
   "codemirror_mode": {
    "name": "ipython",
    "version": 3
   },
   "file_extension": ".py",
   "mimetype": "text/x-python",
   "name": "python",
   "nbconvert_exporter": "python",
   "pygments_lexer": "ipython3",
   "version": "3.8.12"
  }
 },
 "nbformat": 4,
 "nbformat_minor": 4
}
