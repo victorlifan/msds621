{
 "cells": [
  {
   "cell_type": "markdown",
   "metadata": {},
   "source": [
    "# Naive bayes by hand"
   ]
  },
  {
   "cell_type": "code",
   "execution_count": 1,
   "metadata": {},
   "outputs": [],
   "source": [
    "import numpy as np\n",
    "import pandas as pd"
   ]
  },
  {
   "cell_type": "markdown",
   "metadata": {},
   "source": [
    "Imagine you have 4 apples with these attributes"
   ]
  },
  {
   "cell_type": "code",
   "execution_count": 2,
   "metadata": {},
   "outputs": [],
   "source": [
    "apples_docs = [\n",
    "    \"red round\",\n",
    "    \"red round\",\n",
    "    \"green sour round\",\n",
    "    \"green round\",\n",
    "]"
   ]
  },
  {
   "cell_type": "markdown",
   "metadata": {},
   "source": [
    "and 3 bananas with these attributes:"
   ]
  },
  {
   "cell_type": "code",
   "execution_count": 3,
   "metadata": {},
   "outputs": [],
   "source": [
    "bananas_docs = [\n",
    "    \"yellow skinny\",\n",
    "    \"yellow skinny\",\n",
    "    \"green skinny\"\n",
    "]"
   ]
  },
  {
   "cell_type": "markdown",
   "metadata": {},
   "source": [
    "Split into list of lists:"
   ]
  },
  {
   "cell_type": "code",
   "execution_count": 4,
   "metadata": {},
   "outputs": [],
   "source": [
    "apples = [a.split() for a in apples_docs]\n",
    "bananas = [b.split() for b in bananas_docs]"
   ]
  },
  {
   "cell_type": "code",
   "execution_count": 5,
   "metadata": {},
   "outputs": [
    {
     "data": {
      "text/plain": [
       "([['red', 'round'],\n",
       "  ['red', 'round'],\n",
       "  ['green', 'sour', 'round'],\n",
       "  ['green', 'round']],\n",
       " [['yellow', 'skinny'], ['yellow', 'skinny'], ['green', 'skinny']])"
      ]
     },
     "execution_count": 5,
     "metadata": {},
     "output_type": "execute_result"
    }
   ],
   "source": [
    "apples, bananas"
   ]
  },
  {
   "cell_type": "markdown",
   "metadata": {},
   "source": [
    "**Q.** What is the sorted set of all attributes (assign to vocabulary variable $V$)?\n",
    "\n",
    "(Let's ignore the unknown word issue in our vectors and in our computations.)"
   ]
  },
  {
   "cell_type": "code",
   "execution_count": 16,
   "metadata": {},
   "outputs": [
    {
     "data": {
      "text/plain": [
       "['green', 'red', 'round', 'skinny', 'sour', 'yellow']"
      ]
     },
     "execution_count": 16,
     "metadata": {},
     "output_type": "execute_result"
    }
   ],
   "source": [
    "flat_list = [item for sublist in apples+bananas for item in sublist]\n",
    "V = sorted(list(set(flat_list)))\n",
    "V"
   ]
  },
  {
   "cell_type": "markdown",
   "metadata": {},
   "source": [
    "<details>\n",
    "<summary>Solution</summary>\n",
    "['green', 'red', 'round', 'skinny', 'sour', 'yellow']\n",
    "    \n",
    "You can compute like this:\n",
    "    \n",
    "```\n",
    "Va = set(np.concatenate(apples))\n",
    "Vb = set(np.concatenate(bananas))\n",
    "V = sorted(Va.union(Vb))\n",
    "```\n",
    "</details>"
   ]
  },
  {
   "cell_type": "markdown",
   "metadata": {},
   "source": [
    "**Q**. What is the word vector for the \"red round\" apple?\n",
    "\n",
    "The column values are 1 if the word is mentioned otherwise 0. Assume the sorted column order."
   ]
  },
  {
   "cell_type": "code",
   "execution_count": 17,
   "metadata": {},
   "outputs": [
    {
     "data": {
      "text/plain": [
       "[0, 1, 1, 0, 0, 0]"
      ]
     },
     "execution_count": 17,
     "metadata": {},
     "output_type": "execute_result"
    }
   ],
   "source": [
    "[1 if i== 'red' or i=='round' else 0 for i in V ]"
   ]
  },
  {
   "cell_type": "markdown",
   "metadata": {},
   "source": [
    "<details>\n",
    "<summary>Solution</summary>\n",
    "    The row vector is <tt>[0, 1, 1, 0, 0, 0]</tt> for \"red round\"\n",
    "</details>"
   ]
  },
  {
   "cell_type": "markdown",
   "metadata": {},
   "source": [
    "**Q**. What is the word vector for the \"green sour round\" apple?\n",
    "\n",
    "The column values are 1 if the word is mentioned otherwise 0. Assume the sorted column order."
   ]
  },
  {
   "cell_type": "code",
   "execution_count": 8,
   "metadata": {},
   "outputs": [
    {
     "data": {
      "text/plain": [
       "[1, 0, 1, 0, 1, 0]"
      ]
     },
     "execution_count": 8,
     "metadata": {},
     "output_type": "execute_result"
    }
   ],
   "source": [
    "[1 if i in ['green', 'sour', 'round'] else 0 for i in V]"
   ]
  },
  {
   "cell_type": "markdown",
   "metadata": {},
   "source": [
    "<details>\n",
    "<summary>Solution</summary>\n",
    "    The row vector is <tt>[1, 0, 1, 0, 1, 0]</tt> for \"green sour round\"\n",
    "</details>"
   ]
  },
  {
   "cell_type": "markdown",
   "metadata": {},
   "source": [
    "Let's look at all fruit vectors now and fruit target column"
   ]
  },
  {
   "cell_type": "code",
   "execution_count": 9,
   "metadata": {},
   "outputs": [
    {
     "data": {
      "text/html": [
       "<div>\n",
       "<style scoped>\n",
       "    .dataframe tbody tr th:only-of-type {\n",
       "        vertical-align: middle;\n",
       "    }\n",
       "\n",
       "    .dataframe tbody tr th {\n",
       "        vertical-align: top;\n",
       "    }\n",
       "\n",
       "    .dataframe thead th {\n",
       "        text-align: right;\n",
       "    }\n",
       "</style>\n",
       "<table border=\"1\" class=\"dataframe\">\n",
       "  <thead>\n",
       "    <tr style=\"text-align: right;\">\n",
       "      <th></th>\n",
       "      <th>green</th>\n",
       "      <th>red</th>\n",
       "      <th>round</th>\n",
       "      <th>skinny</th>\n",
       "      <th>sour</th>\n",
       "      <th>yellow</th>\n",
       "      <th>fruit</th>\n",
       "    </tr>\n",
       "  </thead>\n",
       "  <tbody>\n",
       "    <tr>\n",
       "      <th>0</th>\n",
       "      <td>0</td>\n",
       "      <td>1</td>\n",
       "      <td>1</td>\n",
       "      <td>0</td>\n",
       "      <td>0</td>\n",
       "      <td>0</td>\n",
       "      <td>0</td>\n",
       "    </tr>\n",
       "    <tr>\n",
       "      <th>1</th>\n",
       "      <td>0</td>\n",
       "      <td>1</td>\n",
       "      <td>1</td>\n",
       "      <td>0</td>\n",
       "      <td>0</td>\n",
       "      <td>0</td>\n",
       "      <td>0</td>\n",
       "    </tr>\n",
       "    <tr>\n",
       "      <th>2</th>\n",
       "      <td>1</td>\n",
       "      <td>0</td>\n",
       "      <td>1</td>\n",
       "      <td>0</td>\n",
       "      <td>1</td>\n",
       "      <td>0</td>\n",
       "      <td>0</td>\n",
       "    </tr>\n",
       "    <tr>\n",
       "      <th>3</th>\n",
       "      <td>1</td>\n",
       "      <td>0</td>\n",
       "      <td>1</td>\n",
       "      <td>0</td>\n",
       "      <td>0</td>\n",
       "      <td>0</td>\n",
       "      <td>0</td>\n",
       "    </tr>\n",
       "    <tr>\n",
       "      <th>4</th>\n",
       "      <td>0</td>\n",
       "      <td>0</td>\n",
       "      <td>0</td>\n",
       "      <td>1</td>\n",
       "      <td>0</td>\n",
       "      <td>1</td>\n",
       "      <td>1</td>\n",
       "    </tr>\n",
       "    <tr>\n",
       "      <th>5</th>\n",
       "      <td>0</td>\n",
       "      <td>0</td>\n",
       "      <td>0</td>\n",
       "      <td>1</td>\n",
       "      <td>0</td>\n",
       "      <td>1</td>\n",
       "      <td>1</td>\n",
       "    </tr>\n",
       "    <tr>\n",
       "      <th>6</th>\n",
       "      <td>1</td>\n",
       "      <td>0</td>\n",
       "      <td>0</td>\n",
       "      <td>1</td>\n",
       "      <td>0</td>\n",
       "      <td>0</td>\n",
       "      <td>1</td>\n",
       "    </tr>\n",
       "  </tbody>\n",
       "</table>\n",
       "</div>"
      ],
      "text/plain": [
       "   green  red  round  skinny  sour  yellow  fruit\n",
       "0      0    1      1       0     0       0      0\n",
       "1      0    1      1       0     0       0      0\n",
       "2      1    0      1       0     1       0      0\n",
       "3      1    0      1       0     0       0      0\n",
       "4      0    0      0       1     0       1      1\n",
       "5      0    0      0       1     0       1      1\n",
       "6      1    0      0       1     0       0      1"
      ]
     },
     "execution_count": 9,
     "metadata": {},
     "output_type": "execute_result"
    }
   ],
   "source": [
    "data = np.zeros((7,len(V)))\n",
    "for i,row in enumerate(apples+bananas):\n",
    "    for w in row:\n",
    "        data[i,V.index(w)] = 1\n",
    "df = pd.DataFrame(data,columns=V,dtype=int)\n",
    "df['fruit'] = [0,0,0,0,1,1,1]\n",
    "df"
   ]
  },
  {
   "cell_type": "markdown",
   "metadata": {},
   "source": [
    "**Q.** What is a good estimate of $P(apple)$=`P_apple` and $P(banana)$=`P_banana`?\n",
    "\n",
    "(Define those variables)"
   ]
  },
  {
   "cell_type": "code",
   "execution_count": 10,
   "metadata": {},
   "outputs": [
    {
     "data": {
      "text/plain": [
       "(0.5714285714285714, 0.42857142857142855)"
      ]
     },
     "execution_count": 10,
     "metadata": {},
     "output_type": "execute_result"
    }
   ],
   "source": [
    "P_apple, P_banana = len(apples)/df.shape[0], len(bananas)/df.shape[0]\n",
    "P_apple, P_banana"
   ]
  },
  {
   "cell_type": "markdown",
   "metadata": {},
   "source": [
    "<details>\n",
    "<summary>Solution</summary>\n",
    "<pre>\n",
    "P_apple = 4/7\n",
    "P_banana = 3/7\n",
    "</pre>\n",
    "</details>"
   ]
  },
  {
   "cell_type": "markdown",
   "metadata": {},
   "source": [
    "**Q.** What are good estimates of $P(red|apple)$ and $P(red|banana)$?\n",
    "\n",
    "Probably best to take ratio of number of apples that are red to the number of apples.  When vector values are binary it feels wrong to do as we did for doc classification.  (In that case, we'd count how many times, say, \"red\" appears in apple rows and divide by total number of words in apple descriptions. Hmm..I guess same thing as attributes aren't repeated.)"
   ]
  },
  {
   "cell_type": "code",
   "execution_count": 22,
   "metadata": {},
   "outputs": [
    {
     "data": {
      "text/plain": [
       "(0.5, 0.0)"
      ]
     },
     "execution_count": 22,
     "metadata": {},
     "output_type": "execute_result"
    }
   ],
   "source": [
    "p_redapple, p_redbanan = df.query(\"red == 1 and fruit == 0\").shape[0]/(df['fruit']==0).sum(), df.query(\"red == 1 and fruit == 1\").shape[0]/(df['fruit']==1).sum()\n",
    "p_redapple, p_redbanan"
   ]
  },
  {
   "cell_type": "markdown",
   "metadata": {},
   "source": [
    "<details>\n",
    "<summary>Solution</summary>\n",
    "P(red|apple) = 2/4 apples are red and 0/3 bananas are red.\n",
    "</details>"
   ]
  },
  {
   "cell_type": "markdown",
   "metadata": {},
   "source": [
    "**Q.** What are good estimates of $P(green|apple)$ and $P(green|banana)$?"
   ]
  },
  {
   "cell_type": "code",
   "execution_count": 23,
   "metadata": {},
   "outputs": [
    {
     "data": {
      "text/plain": [
       "(0.5, 0.3333333333333333)"
      ]
     },
     "execution_count": 23,
     "metadata": {},
     "output_type": "execute_result"
    }
   ],
   "source": [
    "g_redapple, g_redbanan = df.query(\"green == 1 and fruit == 0\").shape[0]/(df['fruit']==0).sum(), df.query(\"green == 1 and fruit == 1\").shape[0]/(df['fruit']==1).sum()\n",
    "P_grea,P_greb"
   ]
  },
  {
   "cell_type": "markdown",
   "metadata": {},
   "source": [
    "<details>\n",
    "<summary>Solution</summary>\n",
    "2/4 apples are green and 1/3 bananas are green.\n",
    "</details>"
   ]
  },
  {
   "cell_type": "markdown",
   "metadata": {},
   "source": [
    "## Laplace smoothing of $P(w|c)$"
   ]
  },
  {
   "cell_type": "markdown",
   "metadata": {},
   "source": [
    "**Q.** If $P(skinny|apple)=0$, what is our smoothed estimate?"
   ]
  },
  {
   "cell_type": "code",
   "execution_count": 26,
   "metadata": {},
   "outputs": [
    {
     "data": {
      "text/plain": [
       "0.1"
      ]
     },
     "execution_count": 26,
     "metadata": {},
     "output_type": "execute_result"
    }
   ],
   "source": [
    "(df.query(\"skinny == 1 and fruit == 0\").shape[0]+1)/((df.fruit== 0).sum()+len(V))"
   ]
  },
  {
   "cell_type": "markdown",
   "metadata": {},
   "source": [
    "<details>\n",
    "<summary>Solution</summary>\n",
    "$P(skinny|apple) = (count(skinny,apple)+1)/(count(apple)+|V|) = (0+1)/(4+6) = .1$\n",
    "</details>"
   ]
  },
  {
   "cell_type": "markdown",
   "metadata": {},
   "source": [
    "**Now, do that using vector operations to get smoothed `P_w_apple` from the apple records**\n",
    "\n",
    "Recall that `df[df.fruit==0]` gets you just the apple records.  Your $P(skinny|apple)$ resuls should be:\n",
    "\n",
    "```\n",
    "green     0.3\n",
    "red       0.3\n",
    "round     0.5\n",
    "skinny    0.1\n",
    "sour      0.2\n",
    "yellow    0.1\n",
    "fruit     0.1\n",
    "```"
   ]
  },
  {
   "cell_type": "code",
   "execution_count": 45,
   "metadata": {},
   "outputs": [
    {
     "data": {
      "text/plain": [
       "green     0.3\n",
       "red       0.3\n",
       "round     0.5\n",
       "skinny    0.1\n",
       "sour      0.2\n",
       "yellow    0.1\n",
       "fruit     0.1\n",
       "dtype: float64"
      ]
     },
     "execution_count": 45,
     "metadata": {},
     "output_type": "execute_result"
    }
   ],
   "source": [
    "P_w_apple = (df[df.fruit==0].sum()+1)/((df.fruit==0).sum()+len(V))\n",
    "P_w_apple"
   ]
  },
  {
   "cell_type": "markdown",
   "metadata": {},
   "source": [
    "<details>\n",
    "<summary>Solution</summary>\n",
    "    <pre>\n",
    "w_counts_apple = df[df.fruit==0].sum(axis=0)     \n",
    "P_w_apple = (w_counts_apple+1) / (len(apples)+len(V))\n",
    "P_w_apple\n",
    "</pre>\n",
    "</details>"
   ]
  },
  {
   "cell_type": "markdown",
   "metadata": {},
   "source": [
    "**Do that same thing to `P_w_banana` from the banana records**\n",
    "\n",
    "You should get:\n",
    "\n",
    "```\n",
    "green     0.222222\n",
    "red       0.111111\n",
    "round     0.111111\n",
    "skinny    0.444444\n",
    "sour      0.111111\n",
    "yellow    0.333333\n",
    "fruit     0.444444\n",
    "```"
   ]
  },
  {
   "cell_type": "code",
   "execution_count": 46,
   "metadata": {},
   "outputs": [
    {
     "data": {
      "text/plain": [
       "green     0.222222\n",
       "red       0.111111\n",
       "round     0.111111\n",
       "skinny    0.444444\n",
       "sour      0.111111\n",
       "yellow    0.333333\n",
       "fruit     0.444444\n",
       "dtype: float64"
      ]
     },
     "execution_count": 46,
     "metadata": {},
     "output_type": "execute_result"
    }
   ],
   "source": [
    "P_w_banana= (df[df.fruit==1].sum()+1)/(len(V)+(df.fruit==1).sum())\n",
    "P_w_banana"
   ]
  },
  {
   "cell_type": "markdown",
   "metadata": {},
   "source": [
    "<details>\n",
    "<summary>Solution</summary>\n",
    "<pre>\n",
    "w_counts_banana = df[df.fruit==1].sum(axis=0)\n",
    "P_w_banana = (w_counts_banana+1) / (len(bananas)+len(V))\n",
    "P_w_banana\n",
    "</pre>\n",
    "</details>"
   ]
  },
  {
   "cell_type": "markdown",
   "metadata": {},
   "source": [
    "**Q.** Given `P_w_apple`, what is `P_apple_redround`, the \"probability\" that \"red round\" is an apple?\n",
    "\n",
    "(We haven't normalized the scores (per our friend Bayes) so they aren't technically probabilities.)  Just compute the score we'd use for classification per the lecture.  Hint: `P_w_apple['skinny']` gives the estimate of $P(skinny|apple)$."
   ]
  },
  {
   "cell_type": "code",
   "execution_count": 53,
   "metadata": {},
   "outputs": [
    {
     "data": {
      "text/plain": [
       "0.0857142857142857"
      ]
     },
     "execution_count": 53,
     "metadata": {},
     "output_type": "execute_result"
    }
   ],
   "source": [
    "P_w_apple.red*P_w_apple['round']*P_apple"
   ]
  },
  {
   "cell_type": "markdown",
   "metadata": {},
   "source": [
    "<details>\n",
    "<summary>Solution</summary>\n",
    "    The answer is 0.0857142857142857 via:<br>\n",
    "    <tt>P_apple_redround = P_apple * P_w_apple['red']*P_w_apple['round']</tt>\n",
    "</details>"
   ]
  },
  {
   "cell_type": "markdown",
   "metadata": {},
   "source": [
    "**Q.** Given `P_w_banana`, what is `P_banana_redround`, the \"probability\" that \"red round\" is a banana?"
   ]
  },
  {
   "cell_type": "code",
   "execution_count": 54,
   "metadata": {},
   "outputs": [
    {
     "data": {
      "text/plain": [
       "0.005291005291005291"
      ]
     },
     "execution_count": 54,
     "metadata": {},
     "output_type": "execute_result"
    }
   ],
   "source": [
    "P_banana*P_w_banana['red']*P_w_banana['round']"
   ]
  },
  {
   "cell_type": "markdown",
   "metadata": {},
   "source": [
    "<details>\n",
    "<summary>Solution</summary>\n",
    "    The answer is 0.005291005291005291 via:<br>\n",
    "    <tt>P_banana_redround = P_banana * P_w_banana['red']*P_w_banana['round']</tt>\n",
    "</details>"
   ]
  },
  {
   "cell_type": "markdown",
   "metadata": {},
   "source": [
    "Here's how to easily compute the probability of each word in V given class apple and class banana:"
   ]
  },
  {
   "cell_type": "code",
   "execution_count": 55,
   "metadata": {},
   "outputs": [
    {
     "data": {
      "text/plain": [
       "[0.3, 0.3, 0.5, 0.1, 0.2, 0.1]"
      ]
     },
     "execution_count": 55,
     "metadata": {},
     "output_type": "execute_result"
    }
   ],
   "source": [
    "[P_w_apple[w] for w in V]"
   ]
  },
  {
   "cell_type": "code",
   "execution_count": 56,
   "metadata": {},
   "outputs": [
    {
     "data": {
      "text/plain": [
       "[0.2222222222222222,\n",
       " 0.1111111111111111,\n",
       " 0.1111111111111111,\n",
       " 0.4444444444444444,\n",
       " 0.1111111111111111,\n",
       " 0.3333333333333333]"
      ]
     },
     "execution_count": 56,
     "metadata": {},
     "output_type": "execute_result"
    }
   ],
   "source": [
    "[P_w_banana[w] for w in V]"
   ]
  },
  {
   "cell_type": "markdown",
   "metadata": {},
   "source": [
    "**Now, define a function for computing likelihood of a document index $d \\in [0,5]$**\n",
    "\n",
    "$$\n",
    "c^*= \\underset{c}{argmax} ~ P(c) \\prod_{w \\in V} P(w | c)^{n_w(d)}\n",
    "$$\n",
    "\n",
    "You have these pieces: `P_apple`, `P_w_apple`, and $n_w(d)$ is just the value in `df[w][d]`."
   ]
  },
  {
   "cell_type": "code",
   "execution_count": 63,
   "metadata": {},
   "outputs": [
    {
     "data": {
      "text/html": [
       "<div>\n",
       "<style scoped>\n",
       "    .dataframe tbody tr th:only-of-type {\n",
       "        vertical-align: middle;\n",
       "    }\n",
       "\n",
       "    .dataframe tbody tr th {\n",
       "        vertical-align: top;\n",
       "    }\n",
       "\n",
       "    .dataframe thead th {\n",
       "        text-align: right;\n",
       "    }\n",
       "</style>\n",
       "<table border=\"1\" class=\"dataframe\">\n",
       "  <thead>\n",
       "    <tr style=\"text-align: right;\">\n",
       "      <th></th>\n",
       "      <th>green</th>\n",
       "      <th>red</th>\n",
       "      <th>round</th>\n",
       "      <th>skinny</th>\n",
       "      <th>sour</th>\n",
       "      <th>yellow</th>\n",
       "      <th>fruit</th>\n",
       "    </tr>\n",
       "  </thead>\n",
       "  <tbody>\n",
       "    <tr>\n",
       "      <th>0</th>\n",
       "      <td>0</td>\n",
       "      <td>1</td>\n",
       "      <td>1</td>\n",
       "      <td>0</td>\n",
       "      <td>0</td>\n",
       "      <td>0</td>\n",
       "      <td>0</td>\n",
       "    </tr>\n",
       "    <tr>\n",
       "      <th>1</th>\n",
       "      <td>0</td>\n",
       "      <td>1</td>\n",
       "      <td>1</td>\n",
       "      <td>0</td>\n",
       "      <td>0</td>\n",
       "      <td>0</td>\n",
       "      <td>0</td>\n",
       "    </tr>\n",
       "    <tr>\n",
       "      <th>2</th>\n",
       "      <td>1</td>\n",
       "      <td>0</td>\n",
       "      <td>1</td>\n",
       "      <td>0</td>\n",
       "      <td>1</td>\n",
       "      <td>0</td>\n",
       "      <td>0</td>\n",
       "    </tr>\n",
       "    <tr>\n",
       "      <th>3</th>\n",
       "      <td>1</td>\n",
       "      <td>0</td>\n",
       "      <td>1</td>\n",
       "      <td>0</td>\n",
       "      <td>0</td>\n",
       "      <td>0</td>\n",
       "      <td>0</td>\n",
       "    </tr>\n",
       "    <tr>\n",
       "      <th>4</th>\n",
       "      <td>0</td>\n",
       "      <td>0</td>\n",
       "      <td>0</td>\n",
       "      <td>1</td>\n",
       "      <td>0</td>\n",
       "      <td>1</td>\n",
       "      <td>1</td>\n",
       "    </tr>\n",
       "    <tr>\n",
       "      <th>5</th>\n",
       "      <td>0</td>\n",
       "      <td>0</td>\n",
       "      <td>0</td>\n",
       "      <td>1</td>\n",
       "      <td>0</td>\n",
       "      <td>1</td>\n",
       "      <td>1</td>\n",
       "    </tr>\n",
       "    <tr>\n",
       "      <th>6</th>\n",
       "      <td>1</td>\n",
       "      <td>0</td>\n",
       "      <td>0</td>\n",
       "      <td>1</td>\n",
       "      <td>0</td>\n",
       "      <td>0</td>\n",
       "      <td>1</td>\n",
       "    </tr>\n",
       "  </tbody>\n",
       "</table>\n",
       "</div>"
      ],
      "text/plain": [
       "   green  red  round  skinny  sour  yellow  fruit\n",
       "0      0    1      1       0     0       0      0\n",
       "1      0    1      1       0     0       0      0\n",
       "2      1    0      1       0     1       0      0\n",
       "3      1    0      1       0     0       0      0\n",
       "4      0    0      0       1     0       1      1\n",
       "5      0    0      0       1     0       1      1\n",
       "6      1    0      0       1     0       0      1"
      ]
     },
     "execution_count": 63,
     "metadata": {},
     "output_type": "execute_result"
    }
   ],
   "source": [
    "df"
   ]
  },
  {
   "cell_type": "code",
   "execution_count": 78,
   "metadata": {},
   "outputs": [
    {
     "data": {
      "text/html": [
       "<div>\n",
       "<style scoped>\n",
       "    .dataframe tbody tr th:only-of-type {\n",
       "        vertical-align: middle;\n",
       "    }\n",
       "\n",
       "    .dataframe tbody tr th {\n",
       "        vertical-align: top;\n",
       "    }\n",
       "\n",
       "    .dataframe thead th {\n",
       "        text-align: right;\n",
       "    }\n",
       "</style>\n",
       "<table border=\"1\" class=\"dataframe\">\n",
       "  <thead>\n",
       "    <tr style=\"text-align: right;\">\n",
       "      <th></th>\n",
       "      <th>green</th>\n",
       "      <th>red</th>\n",
       "      <th>round</th>\n",
       "      <th>skinny</th>\n",
       "      <th>sour</th>\n",
       "      <th>yellow</th>\n",
       "    </tr>\n",
       "  </thead>\n",
       "  <tbody>\n",
       "    <tr>\n",
       "      <th>0</th>\n",
       "      <td>1.0</td>\n",
       "      <td>0.3</td>\n",
       "      <td>0.5</td>\n",
       "      <td>1.0</td>\n",
       "      <td>1.0</td>\n",
       "      <td>1.0</td>\n",
       "    </tr>\n",
       "    <tr>\n",
       "      <th>1</th>\n",
       "      <td>1.0</td>\n",
       "      <td>0.3</td>\n",
       "      <td>0.5</td>\n",
       "      <td>1.0</td>\n",
       "      <td>1.0</td>\n",
       "      <td>1.0</td>\n",
       "    </tr>\n",
       "    <tr>\n",
       "      <th>2</th>\n",
       "      <td>0.3</td>\n",
       "      <td>1.0</td>\n",
       "      <td>0.5</td>\n",
       "      <td>1.0</td>\n",
       "      <td>0.2</td>\n",
       "      <td>1.0</td>\n",
       "    </tr>\n",
       "    <tr>\n",
       "      <th>3</th>\n",
       "      <td>0.3</td>\n",
       "      <td>1.0</td>\n",
       "      <td>0.5</td>\n",
       "      <td>1.0</td>\n",
       "      <td>1.0</td>\n",
       "      <td>1.0</td>\n",
       "    </tr>\n",
       "    <tr>\n",
       "      <th>4</th>\n",
       "      <td>1.0</td>\n",
       "      <td>1.0</td>\n",
       "      <td>1.0</td>\n",
       "      <td>0.1</td>\n",
       "      <td>1.0</td>\n",
       "      <td>0.1</td>\n",
       "    </tr>\n",
       "    <tr>\n",
       "      <th>5</th>\n",
       "      <td>1.0</td>\n",
       "      <td>1.0</td>\n",
       "      <td>1.0</td>\n",
       "      <td>0.1</td>\n",
       "      <td>1.0</td>\n",
       "      <td>0.1</td>\n",
       "    </tr>\n",
       "    <tr>\n",
       "      <th>6</th>\n",
       "      <td>0.3</td>\n",
       "      <td>1.0</td>\n",
       "      <td>1.0</td>\n",
       "      <td>0.1</td>\n",
       "      <td>1.0</td>\n",
       "      <td>1.0</td>\n",
       "    </tr>\n",
       "  </tbody>\n",
       "</table>\n",
       "</div>"
      ],
      "text/plain": [
       "   green  red  round  skinny  sour  yellow\n",
       "0    1.0  0.3    0.5     1.0   1.0     1.0\n",
       "1    1.0  0.3    0.5     1.0   1.0     1.0\n",
       "2    0.3  1.0    0.5     1.0   0.2     1.0\n",
       "3    0.3  1.0    0.5     1.0   1.0     1.0\n",
       "4    1.0  1.0    1.0     0.1   1.0     0.1\n",
       "5    1.0  1.0    1.0     0.1   1.0     0.1\n",
       "6    0.3  1.0    1.0     0.1   1.0     1.0"
      ]
     },
     "execution_count": 78,
     "metadata": {},
     "output_type": "execute_result"
    }
   ],
   "source": [
    "np.power([P_w_apple[w] for w in V],df.iloc[:,:-1])"
   ]
  },
  {
   "cell_type": "code",
   "execution_count": 66,
   "metadata": {},
   "outputs": [
    {
     "data": {
      "text/plain": [
       "0    0.15\n",
       "1    0.15\n",
       "2    0.03\n",
       "3    0.15\n",
       "4    0.01\n",
       "5    0.01\n",
       "6    0.03\n",
       "dtype: float64"
      ]
     },
     "execution_count": 66,
     "metadata": {},
     "output_type": "execute_result"
    }
   ],
   "source": [
    "np.prod(np.power([P_w_apple[w] for w in V],df.iloc[:,:-1]),axis= 1)"
   ]
  },
  {
   "cell_type": "code",
   "execution_count": 69,
   "metadata": {},
   "outputs": [],
   "source": [
    "def likelihood_apple(d:int):\n",
    "    return P_apple*np.prod(np.power([P_w_apple[w] for w in V],df.iloc[:,:-1]),axis= 1)[d]\n",
    "def likelihood_banana(d:int):\n",
    "    return P_banana*np.prod(np.power([P_w_banana[w] for w in V],df.iloc[:,:-1]),axis=1)[d]"
   ]
  },
  {
   "cell_type": "code",
   "execution_count": 74,
   "metadata": {},
   "outputs": [
    {
     "data": {
      "text/plain": [
       "0.0857142857142857"
      ]
     },
     "execution_count": 74,
     "metadata": {},
     "output_type": "execute_result"
    }
   ],
   "source": [
    "likelihood_apple(0)"
   ]
  },
  {
   "cell_type": "markdown",
   "metadata": {},
   "source": [
    "<details>\n",
    "<summary>Solution</summary>\n",
    "<pre>\n",
    "def likelihood_apple(d:int):\n",
    "    return P_apple * np.product([P_w_apple[w]**df[w][d] for w in V])\n",
    "def likelihood_banana(d:int):\n",
    "    return P_banana * np.product([P_w_banana[w]**df[w][d] for w in V])\n",
    "</pre>\n",
    "</details>\n"
   ]
  },
  {
   "cell_type": "markdown",
   "metadata": {},
   "source": [
    "**Run the following loop to make predictions for each document**\n",
    "\n",
    "Output should be:\n",
    "\n",
    "```\n",
    "red round        : 0.085714, 0.005291 => apple\n",
    "red round        : 0.085714, 0.005291 => apple\n",
    "green sour round : 0.017143, 0.001176 => apple\n",
    "green round      : 0.085714, 0.010582 => apple\n",
    "yellow skinny    : 0.005714, 0.063492 => banana\n",
    "yellow skinny    : 0.005714, 0.063492 => banana\n",
    "green skinny     : 0.017143, 0.042328 => banana\n",
    "```"
   ]
  },
  {
   "cell_type": "code",
   "execution_count": 72,
   "metadata": {},
   "outputs": [
    {
     "name": "stdout",
     "output_type": "stream",
     "text": [
      "red round        : 0.085714, 0.005291 => apple\n",
      "red round        : 0.085714, 0.005291 => apple\n",
      "green sour round : 0.017143, 0.001176 => apple\n",
      "green round      : 0.085714, 0.010582 => apple\n",
      "yellow skinny    : 0.005714, 0.063492 => banana\n",
      "yellow skinny    : 0.005714, 0.063492 => banana\n",
      "green skinny     : 0.017143, 0.042328 => banana\n"
     ]
    }
   ],
   "source": [
    "docs = apples_docs+bananas_docs\n",
    "for d in range(len(df)):\n",
    "    a = likelihood_apple(d)\n",
    "    b = likelihood_banana(d)\n",
    "    print(f\"{docs[d]:17s}: {a:4f}, {b:4f} => {'apple' if a>b else 'banana'}\")"
   ]
  },
  {
   "cell_type": "code",
   "execution_count": null,
   "metadata": {},
   "outputs": [],
   "source": []
  }
 ],
 "metadata": {
  "kernelspec": {
   "display_name": "Python 3 (ipykernel)",
   "language": "python",
   "name": "python3"
  },
  "language_info": {
   "codemirror_mode": {
    "name": "ipython",
    "version": 3
   },
   "file_extension": ".py",
   "mimetype": "text/x-python",
   "name": "python",
   "nbconvert_exporter": "python",
   "pygments_lexer": "ipython3",
   "version": "3.8.12"
  }
 },
 "nbformat": 4,
 "nbformat_minor": 4
}
